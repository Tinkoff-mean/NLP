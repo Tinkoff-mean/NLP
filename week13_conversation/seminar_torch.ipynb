{
 "cells": [
  {
   "cell_type": "markdown",
   "id": "6fea4f1e",
   "metadata": {
    "papermill": {
     "duration": 0.009958,
     "end_time": "2023-04-03T10:59:15.111829",
     "exception": false,
     "start_time": "2023-04-03T10:59:15.101871",
     "status": "completed"
    },
    "tags": []
   },
   "source": [
    "# Practice: simple question answering\n",
    "![img](https://www.cs.upc.edu/~mlatifi/index_files/qa-logo.jpg)\n",
    "\n",
    "Today we're going to build a retrieval-based question answering model with metric learning models.\n",
    "\n",
    "_this seminar is based on original notebook by [Oleg Vasilev](https://github.com/Omrigan/)_\n",
    "\n"
   ]
  },
  {
   "cell_type": "code",
   "execution_count": 1,
   "id": "c6aff816",
   "metadata": {
    "execution": {
     "iopub.execute_input": "2023-04-03T10:59:15.138195Z",
     "iopub.status.busy": "2023-04-03T10:59:15.137508Z",
     "iopub.status.idle": "2023-04-03T10:59:17.548264Z",
     "shell.execute_reply": "2023-04-03T10:59:17.547226Z"
    },
    "papermill": {
     "duration": 2.430143,
     "end_time": "2023-04-03T10:59:17.551537",
     "exception": false,
     "start_time": "2023-04-03T10:59:15.121394",
     "status": "completed"
    },
    "tags": []
   },
   "outputs": [],
   "source": [
    "import numpy as np\n",
    "import torch, torch.nn as nn\n",
    "import torch.nn.functional as F\n",
    "import matplotlib.pyplot as plt\n",
    "%matplotlib inline"
   ]
  },
  {
   "cell_type": "markdown",
   "id": "bc03bdfc",
   "metadata": {
    "papermill": {
     "duration": 0.009129,
     "end_time": "2023-04-03T10:59:17.570831",
     "exception": false,
     "start_time": "2023-04-03T10:59:17.561702",
     "status": "completed"
    },
    "tags": []
   },
   "source": [
    "### Dataset\n",
    "\n",
    "Today's data is Stanford Question Answering Dataset (SQuAD). Given a paragraph of text and a question, our model's task is to select a snippet that answers the question.\n",
    "\n",
    "We are not going to solve the full task today. Instead, we'll train a model to __select the sentence containing answer__ among several options.\n",
    "\n",
    "As usual, you are given an utility module with data reader and some helper functions"
   ]
  },
  {
   "cell_type": "code",
   "execution_count": 2,
   "id": "74b923d9",
   "metadata": {
    "execution": {
     "iopub.execute_input": "2023-04-03T10:59:17.590951Z",
     "iopub.status.busy": "2023-04-03T10:59:17.590434Z",
     "iopub.status.idle": "2023-04-03T10:59:37.326593Z",
     "shell.execute_reply": "2023-04-03T10:59:37.325168Z"
    },
    "papermill": {
     "duration": 19.749378,
     "end_time": "2023-04-03T10:59:37.329566",
     "exception": false,
     "start_time": "2023-04-03T10:59:17.580188",
     "status": "completed"
    },
    "tags": []
   },
   "outputs": [
    {
     "name": "stdout",
     "output_type": "stream",
     "text": [
      "Requirement already satisfied: transformers in /opt/conda/lib/python3.7/site-packages (4.27.3)\r\n",
      "Requirement already satisfied: importlib-metadata in /opt/conda/lib/python3.7/site-packages (from transformers) (4.11.4)\r\n",
      "Requirement already satisfied: requests in /opt/conda/lib/python3.7/site-packages (from transformers) (2.28.2)\r\n",
      "Requirement already satisfied: regex!=2019.12.17 in /opt/conda/lib/python3.7/site-packages (from transformers) (2021.11.10)\r\n",
      "Requirement already satisfied: tokenizers!=0.11.3,<0.14,>=0.11.1 in /opt/conda/lib/python3.7/site-packages (from transformers) (0.13.2)\r\n",
      "Requirement already satisfied: packaging>=20.0 in /opt/conda/lib/python3.7/site-packages (from transformers) (23.0)\r\n",
      "Requirement already satisfied: tqdm>=4.27 in /opt/conda/lib/python3.7/site-packages (from transformers) (4.64.1)\r\n",
      "Requirement already satisfied: filelock in /opt/conda/lib/python3.7/site-packages (from transformers) (3.9.0)\r\n",
      "Requirement already satisfied: pyyaml>=5.1 in /opt/conda/lib/python3.7/site-packages (from transformers) (6.0)\r\n",
      "Requirement already satisfied: huggingface-hub<1.0,>=0.11.0 in /opt/conda/lib/python3.7/site-packages (from transformers) (0.13.3)\r\n",
      "Requirement already satisfied: numpy>=1.17 in /opt/conda/lib/python3.7/site-packages (from transformers) (1.21.6)\r\n",
      "Requirement already satisfied: typing-extensions>=3.7.4.3 in /opt/conda/lib/python3.7/site-packages (from huggingface-hub<1.0,>=0.11.0->transformers) (4.4.0)\r\n",
      "Requirement already satisfied: zipp>=0.5 in /opt/conda/lib/python3.7/site-packages (from importlib-metadata->transformers) (3.11.0)\r\n",
      "Requirement already satisfied: certifi>=2017.4.17 in /opt/conda/lib/python3.7/site-packages (from requests->transformers) (2022.12.7)\r\n",
      "Requirement already satisfied: idna<4,>=2.5 in /opt/conda/lib/python3.7/site-packages (from requests->transformers) (3.4)\r\n",
      "Requirement already satisfied: urllib3<1.27,>=1.21.1 in /opt/conda/lib/python3.7/site-packages (from requests->transformers) (1.26.14)\r\n",
      "Requirement already satisfied: charset-normalizer<4,>=2 in /opt/conda/lib/python3.7/site-packages (from requests->transformers) (2.1.1)\r\n",
      "\u001b[33mWARNING: Running pip as the 'root' user can result in broken permissions and conflicting behaviour with the system package manager. It is recommended to use a virtual environment instead: https://pip.pypa.io/warnings/venv\u001b[0m\u001b[33m\r\n",
      "\u001b[0m--2023-04-03 10:59:28--  https://raw.githubusercontent.com/yandexdataschool/nlp_course/2020/week11_conversation/data.py\r\n",
      "Resolving raw.githubusercontent.com (raw.githubusercontent.com)... 185.199.108.133, 185.199.109.133, 185.199.110.133, ...\r\n",
      "Connecting to raw.githubusercontent.com (raw.githubusercontent.com)|185.199.108.133|:443... connected.\r\n",
      "HTTP request sent, awaiting response... 200 OK\r\n",
      "Length: 3553 (3.5K) [text/plain]\r\n",
      "Saving to: ‘data.py’\r\n",
      "\r\n",
      "data.py             100%[===================>]   3.47K  --.-KB/s    in 0s      \r\n",
      "\r\n",
      "2023-04-03 10:59:28 (41.5 MB/s) - ‘data.py’ saved [3553/3553]\r\n",
      "\r\n",
      "[nltk_data] Downloading package punkt to /usr/share/nltk_data...\n",
      "[nltk_data]   Package punkt is already up-to-date!\n"
     ]
    }
   ],
   "source": [
    "!pip install transformers\n",
    "!wget https://raw.githubusercontent.com/yandexdataschool/nlp_course/2020/week11_conversation/data.py -O data.py\n",
    "!wget https://rajpurkar.github.io/SQuAD-explorer/dataset/train-v2.0.json -O squad-v2.0.json 2> log\n",
    "\n",
    "import data\n",
    "# backup download link: https://www.dropbox.com/s/q4fuihaerqr0itj/squad.tar.gz?dl=1\n",
    "train, test = data.build_dataset('./squad-v2.0.json')"
   ]
  },
  {
   "cell_type": "code",
   "execution_count": 3,
   "id": "4c904d83",
   "metadata": {
    "execution": {
     "iopub.execute_input": "2023-04-03T10:59:37.352131Z",
     "iopub.status.busy": "2023-04-03T10:59:37.351796Z",
     "iopub.status.idle": "2023-04-03T10:59:37.359777Z",
     "shell.execute_reply": "2023-04-03T10:59:37.358535Z"
    },
    "papermill": {
     "duration": 0.024347,
     "end_time": "2023-04-03T10:59:37.364625",
     "exception": false,
     "start_time": "2023-04-03T10:59:37.340278",
     "status": "completed"
    },
    "tags": []
   },
   "outputs": [
    {
     "name": "stdout",
     "output_type": "stream",
     "text": [
      "QUESTION Where did Beyonce get her name from? \n",
      "\n",
      "[ ] Beyoncé Giselle Knowles was born in Houston, Texas, to Celestine Ann \"Tina\" Knowles (née Beyincé), a hairdresser and salon owner, and Mathew Knowles, a Xerox sales manager.\n",
      "[v] Beyoncé's name is a tribute to her mother's maiden name.\n",
      "[ ] Beyoncé's younger sister Solange is also a singer and a former member of Destiny's Child.\n",
      "[ ] Mathew is African-American, while Tina is of Louisiana Creole descent (with African, Native American, French, Cajun, and distant Irish and Spanish ancestry).\n",
      "[ ] Through her mother, Beyoncé is a descendant of Acadian leader Joseph Broussard.\n",
      "[ ] She was raised in a Methodist household.\n"
     ]
    }
   ],
   "source": [
    "pid, question, options, correct_indices, wrong_indices = train.iloc[40]\n",
    "print('QUESTION', question, '\\n')\n",
    "for i, cand in enumerate(options):\n",
    "    print(['[ ]', '[v]'][i in correct_indices], cand)"
   ]
  },
  {
   "cell_type": "markdown",
   "id": "f1f32e99",
   "metadata": {
    "papermill": {
     "duration": 0.010039,
     "end_time": "2023-04-03T10:59:37.384697",
     "exception": false,
     "start_time": "2023-04-03T10:59:37.374658",
     "status": "completed"
    },
    "tags": []
   },
   "source": [
    "### Pre-trained BERT\n",
    "_(but you guessed it)_\n",
    "\n",
    "We've already solved quite a few tasks from scratch, training our own embeddings and convolutional/recurrent layers. However, one can often achieve higher quality by using pre-trained models. We will default to the good ol' [BERT](https://arxiv.org/abs/1810.04805), though, you are free to use any [other model](https://huggingface.co/models) as you see fit.\n"
   ]
  },
  {
   "cell_type": "code",
   "execution_count": 4,
   "id": "1f43cf08",
   "metadata": {
    "execution": {
     "iopub.execute_input": "2023-04-03T10:59:37.406018Z",
     "iopub.status.busy": "2023-04-03T10:59:37.405451Z",
     "iopub.status.idle": "2023-04-03T10:59:37.474266Z",
     "shell.execute_reply": "2023-04-03T10:59:37.473230Z"
    },
    "papermill": {
     "duration": 0.081799,
     "end_time": "2023-04-03T10:59:37.476427",
     "exception": false,
     "start_time": "2023-04-03T10:59:37.394628",
     "status": "completed"
    },
    "tags": []
   },
   "outputs": [],
   "source": [
    "device = 'cpu' if not torch.cuda.is_available() else 'cuda'"
   ]
  },
  {
   "cell_type": "code",
   "execution_count": 5,
   "id": "ed8723bb",
   "metadata": {
    "execution": {
     "iopub.execute_input": "2023-04-03T10:59:37.498588Z",
     "iopub.status.busy": "2023-04-03T10:59:37.498260Z",
     "iopub.status.idle": "2023-04-03T10:59:59.041955Z",
     "shell.execute_reply": "2023-04-03T10:59:59.039406Z"
    },
    "papermill": {
     "duration": 21.559673,
     "end_time": "2023-04-03T10:59:59.046419",
     "exception": false,
     "start_time": "2023-04-03T10:59:37.486746",
     "status": "completed"
    },
    "tags": []
   },
   "outputs": [
    {
     "data": {
      "application/vnd.jupyter.widget-view+json": {
       "model_id": "df38a8fde4734cbf92f03961bf66860e",
       "version_major": 2,
       "version_minor": 0
      },
      "text/plain": [
       "Downloading (…)okenizer_config.json:   0%|          | 0.00/399 [00:00<?, ?B/s]"
      ]
     },
     "metadata": {},
     "output_type": "display_data"
    },
    {
     "data": {
      "application/vnd.jupyter.widget-view+json": {
       "model_id": "1a39c66a30f5495282da07f174d5b3cf",
       "version_major": 2,
       "version_minor": 0
      },
      "text/plain": [
       "Downloading (…)lve/main/config.json:   0%|          | 0.00/625 [00:00<?, ?B/s]"
      ]
     },
     "metadata": {},
     "output_type": "display_data"
    },
    {
     "data": {
      "application/vnd.jupyter.widget-view+json": {
       "model_id": "4e27cbde8e4e481696000d08bb3b7daf",
       "version_major": 2,
       "version_minor": 0
      },
      "text/plain": [
       "Downloading (…)solve/main/vocab.txt:   0%|          | 0.00/232k [00:00<?, ?B/s]"
      ]
     },
     "metadata": {},
     "output_type": "display_data"
    },
    {
     "data": {
      "application/vnd.jupyter.widget-view+json": {
       "model_id": "bf0ff5131b1842e3a980d58b4d344d8b",
       "version_major": 2,
       "version_minor": 0
      },
      "text/plain": [
       "Downloading (…)/main/tokenizer.json:   0%|          | 0.00/466k [00:00<?, ?B/s]"
      ]
     },
     "metadata": {},
     "output_type": "display_data"
    },
    {
     "data": {
      "application/vnd.jupyter.widget-view+json": {
       "model_id": "35f62d6d7db94e488f14046361e47a34",
       "version_major": 2,
       "version_minor": 0
      },
      "text/plain": [
       "Downloading (…)in/added_tokens.json:   0%|          | 0.00/2.00 [00:00<?, ?B/s]"
      ]
     },
     "metadata": {},
     "output_type": "display_data"
    },
    {
     "data": {
      "application/vnd.jupyter.widget-view+json": {
       "model_id": "b66037a2f42b4ee1a639b8dea99e601e",
       "version_major": 2,
       "version_minor": 0
      },
      "text/plain": [
       "Downloading (…)cial_tokens_map.json:   0%|          | 0.00/112 [00:00<?, ?B/s]"
      ]
     },
     "metadata": {},
     "output_type": "display_data"
    },
    {
     "data": {
      "application/vnd.jupyter.widget-view+json": {
       "model_id": "046512e99c96422db673a76129495a72",
       "version_major": 2,
       "version_minor": 0
      },
      "text/plain": [
       "Downloading pytorch_model.bin:   0%|          | 0.00/438M [00:00<?, ?B/s]"
      ]
     },
     "metadata": {},
     "output_type": "display_data"
    }
   ],
   "source": [
    "from transformers import AutoTokenizer, AutoModel, pipeline\n",
    "\n",
    "model_name = 'sentence-transformers/bert-base-nli-mean-tokens'\n",
    "tokenizer = AutoTokenizer.from_pretrained(model_name)\n",
    "bert = AutoModel.from_pretrained(model_name).to(device)"
   ]
  },
  {
   "cell_type": "code",
   "execution_count": 6,
   "id": "76ecb48a",
   "metadata": {
    "execution": {
     "iopub.execute_input": "2023-04-03T10:59:59.114071Z",
     "iopub.status.busy": "2023-04-03T10:59:59.112687Z",
     "iopub.status.idle": "2023-04-03T11:00:00.700030Z",
     "shell.execute_reply": "2023-04-03T11:00:00.698953Z"
    },
    "papermill": {
     "duration": 1.63559,
     "end_time": "2023-04-03T11:00:00.702864",
     "exception": false,
     "start_time": "2023-04-03T10:59:59.067274",
     "status": "completed"
    },
    "tags": []
   },
   "outputs": [
    {
     "name": "stderr",
     "output_type": "stream",
     "text": [
      "Asking to truncate to max_length but no maximum length is provided and the model has no predefined maximum length. Default to no truncation.\n"
     ]
    }
   ],
   "source": [
    "# just a reminder: here's how it works\n",
    "dummy_lines = [\n",
    "    \"How old are you?\",                                                 # 0\n",
    "    \"In what mythology do two canines watch over the Chinvat Bridge?\",  # 1\n",
    "    \"I'm sorry, okay, I'm not perfect, but I'm trying.\",                # 2\n",
    "    \"What is your age?\",                                                # 3\n",
    "    \"Beware, for I am fearless, and therefore powerful.\",               # 4\n",
    "]\n",
    "\n",
    "with torch.no_grad():\n",
    "    batch_tensors = tokenizer(dummy_lines, padding=True, truncation=True, return_tensors=\"pt\")\n",
    "    batch_tensors = {k: v.to(device) for k,v in batch_tensors.items()}\n",
    "    token_embs, cls_embs = bert(**batch_tensors, return_dict=False)\n",
    "    \n",
    "    \n",
    "mask = batch_tensors['attention_mask'][..., None].to(torch.float32)\n",
    "naive_phrase_embs = (token_embs * mask).sum(1) / mask.sum(1)"
   ]
  },
  {
   "cell_type": "code",
   "execution_count": 7,
   "id": "6af93efe",
   "metadata": {
    "execution": {
     "iopub.execute_input": "2023-04-03T11:00:00.721969Z",
     "iopub.status.busy": "2023-04-03T11:00:00.720392Z",
     "iopub.status.idle": "2023-04-03T11:00:00.957373Z",
     "shell.execute_reply": "2023-04-03T11:00:00.956277Z"
    },
    "papermill": {
     "duration": 0.248335,
     "end_time": "2023-04-03T11:00:00.959599",
     "exception": false,
     "start_time": "2023-04-03T11:00:00.711264",
     "status": "completed"
    },
    "tags": []
   },
   "outputs": [
    {
     "data": {
      "text/plain": [
       "<matplotlib.image.AxesImage at 0x7fe718197890>"
      ]
     },
     "execution_count": 7,
     "metadata": {},
     "output_type": "execute_result"
    },
    {
     "data": {
      "image/png": "[encoded data removed]",
      "text/plain": [
       "<Figure size 640x480 with 1 Axes>"
      ]
     },
     "metadata": {},
     "output_type": "display_data"
    }
   ],
   "source": [
    "plt.title('phrase similarity')\n",
    "plt.imshow((naive_phrase_embs @ naive_phrase_embs.t()).cpu().data.numpy(), interpolation='none', cmap='gray')"
   ]
  },
  {
   "cell_type": "markdown",
   "id": "86a6052d",
   "metadata": {
    "papermill": {
     "duration": 0.008004,
     "end_time": "2023-04-03T11:00:00.976002",
     "exception": false,
     "start_time": "2023-04-03T11:00:00.967998",
     "status": "completed"
    },
    "tags": []
   },
   "source": [
    "As you can see, __the strongest similarity is between lines 0 and 3__. Indeed they correspond to \"How old are you?\" and \"What is your age?\""
   ]
  },
  {
   "cell_type": "markdown",
   "id": "86ff6b33",
   "metadata": {
    "papermill": {
     "duration": 0.008224,
     "end_time": "2023-04-03T11:00:00.992177",
     "exception": false,
     "start_time": "2023-04-03T11:00:00.983953",
     "status": "completed"
    },
    "tags": []
   },
   "source": [
    "### Model (2 points)\n",
    "\n",
    "Our goal for today is to build a model that measures similarity between question and answer. In particular, it maps both question and answer into fixed-size vectors such that:\n",
    "\n",
    "Our model is a pair of $V_q(q)$ and $V_a(a)$ - networks that turn phrases into vectors. \n",
    "\n",
    "__Objective:__ Question vector $V_q(q)$ should be __closer__ to correct answer vectors $V_a(a^+)$ than to incorrect ones $V_a(a^-)$ .\n",
    "\n",
    "Both vectorizers can be anything you wish. For starters, let's use a couple of dense layers on top of the pre-trained encoder.\n",
    "\n",
    "\n"
   ]
  },
  {
   "cell_type": "code",
   "execution_count": 8,
   "id": "17b889d6",
   "metadata": {
    "execution": {
     "iopub.execute_input": "2023-04-03T11:00:01.010078Z",
     "iopub.status.busy": "2023-04-03T11:00:01.009726Z",
     "iopub.status.idle": "2023-04-03T11:00:01.020035Z",
     "shell.execute_reply": "2023-04-03T11:00:01.019152Z"
    },
    "papermill": {
     "duration": 0.021726,
     "end_time": "2023-04-03T11:00:01.022226",
     "exception": false,
     "start_time": "2023-04-03T11:00:01.000500",
     "status": "completed"
    },
    "tags": []
   },
   "outputs": [],
   "source": [
    "class Vectorizer(nn.Module):\n",
    "    def __init__(self, hid_size=256, bert=bert):\n",
    "        \"\"\" A small feedforward network on top of pre-trained encoder. 2-3 layers should be enough \"\"\"\n",
    "        super().__init__()\n",
    "        self.bert = bert\n",
    "        self.hid_size = hid_size\n",
    "        \n",
    "        # define a few layers to be applied on top of pre-trained BERT\n",
    "        # note: please make sure your final layer comes with _linear_ activation\n",
    "        self.head = nn.Sequential(\n",
    "            nn.Linear(bert.config.hidden_size, hid_size),\n",
    "            nn.ReLU(),\n",
    "            nn.Dropout(0.2),\n",
    "            nn.Linear(hid_size, hid_size),\n",
    "        )\n",
    "        \n",
    "\n",
    "    def forward(self, input_phrases):\n",
    "        \"\"\"\n",
    "        Apply vectorizer. Use dropout and any other hacks at will.\n",
    "        :param input_phrases: a list of strings, [batch_size]\n",
    "        :returns: predicted phrase vectors, [batch_size, output_size]\n",
    "        \n",
    "        Note: you may want to use dropouts.\n",
    "        if self.training:\n",
    "          <something>\n",
    "        \n",
    "        Note 2: you may also want to use with torch.no_grad to avoid training BERT for your first attempts\n",
    "        \n",
    "        \"\"\"\n",
    "        \n",
    "        # In fact, please DO use at least 10% dropout!\n",
    "        with torch.no_grad():\n",
    "            batch_tensors = tokenizer(input_phrases, padding=True, truncation=True, return_tensors=\"pt\")\n",
    "            batch_tensors = {k: v.to(device) for k,v in batch_tensors.items()}\n",
    "            token_embs, cls_embs = bert(**batch_tensors, return_dict=False)\n",
    "            \n",
    "        mask = batch_tensors['attention_mask'][..., None].to(torch.float32)\n",
    "        phrase_embs = (token_embs * mask).sum(1) / mask.sum(1)\n",
    "        return self.head(phrase_embs)"
   ]
  },
  {
   "cell_type": "code",
   "execution_count": 9,
   "id": "5aba0181",
   "metadata": {
    "execution": {
     "iopub.execute_input": "2023-04-03T11:00:01.040040Z",
     "iopub.status.busy": "2023-04-03T11:00:01.039251Z",
     "iopub.status.idle": "2023-04-03T11:00:01.054227Z",
     "shell.execute_reply": "2023-04-03T11:00:01.053363Z"
    },
    "papermill": {
     "duration": 0.025891,
     "end_time": "2023-04-03T11:00:01.056270",
     "exception": false,
     "start_time": "2023-04-03T11:00:01.030379",
     "status": "completed"
    },
    "tags": []
   },
   "outputs": [],
   "source": [
    "question_vectorizer = Vectorizer().to(device)\n",
    "answer_vectorizer = Vectorizer().to(device)"
   ]
  },
  {
   "cell_type": "code",
   "execution_count": 10,
   "id": "3c2c70e5",
   "metadata": {
    "execution": {
     "iopub.execute_input": "2023-04-03T11:00:01.073817Z",
     "iopub.status.busy": "2023-04-03T11:00:01.073099Z",
     "iopub.status.idle": "2023-04-03T11:00:01.117255Z",
     "shell.execute_reply": "2023-04-03T11:00:01.115994Z"
    },
    "papermill": {
     "duration": 0.05617,
     "end_time": "2023-04-03T11:00:01.120310",
     "exception": false,
     "start_time": "2023-04-03T11:00:01.064140",
     "status": "completed"
    },
    "tags": []
   },
   "outputs": [
    {
     "name": "stdout",
     "output_type": "stream",
     "text": [
      "Well done!\n"
     ]
    }
   ],
   "source": [
    "question_vectorizer.train(False)\n",
    "out1 = question_vectorizer(dummy_lines)\n",
    "out2 = question_vectorizer(dummy_lines)\n",
    "assert tuple(out1.shape) == (5, question_vectorizer.hid_size)\n",
    "assert torch.allclose(out1, out2, atol=1e-5, rtol=0), \"Make sure your model disables dropout if training == False\"\n",
    "print(\"Well done!\")"
   ]
  },
  {
   "cell_type": "markdown",
   "id": "4b4591c1",
   "metadata": {
    "papermill": {
     "duration": 0.0095,
     "end_time": "2023-04-03T11:00:01.138373",
     "exception": false,
     "start_time": "2023-04-03T11:00:01.128873",
     "status": "completed"
    },
    "tags": []
   },
   "source": [
    "### Training: minibatches\n",
    "\n",
    "Our model learns on triples $(q, a^+, a^-)$: \n",
    "* q - __q__uestion\n",
    "* (a+) - correct __a__nswer\n",
    "* (a-) - wrong __a__nswer \n",
    "\n",
    "Below you will find a generator that samples such triples from data."
   ]
  },
  {
   "cell_type": "code",
   "execution_count": 11,
   "id": "e1212ac1",
   "metadata": {
    "execution": {
     "iopub.execute_input": "2023-04-03T11:00:01.155745Z",
     "iopub.status.busy": "2023-04-03T11:00:01.155468Z",
     "iopub.status.idle": "2023-04-03T11:00:01.163671Z",
     "shell.execute_reply": "2023-04-03T11:00:01.162622Z"
    },
    "papermill": {
     "duration": 0.019529,
     "end_time": "2023-04-03T11:00:01.165895",
     "exception": false,
     "start_time": "2023-04-03T11:00:01.146366",
     "status": "completed"
    },
    "tags": []
   },
   "outputs": [],
   "source": [
    "import random\n",
    "\n",
    "def iterate_minibatches(data, batch_size, shuffle=True, cycle=False):\n",
    "    \"\"\"\n",
    "    Generates minibatches of triples: {questions, correct answers, wrong answers}\n",
    "    If there are several wrong (or correct) answers, picks one at random.\n",
    "    \"\"\"\n",
    "    indices = np.arange(len(data))\n",
    "    while True:\n",
    "        if shuffle:\n",
    "            indices = np.random.permutation(indices)\n",
    "        for batch_start in range(0, len(indices), batch_size):\n",
    "            batch_indices = indices[batch_start: batch_start + batch_size]\n",
    "            batch = data.iloc[batch_indices]\n",
    "            questions = batch['question'].values\n",
    "            correct_answers = np.array([\n",
    "                row['options'][random.choice(row['correct_indices'])]\n",
    "                for i, row in batch.iterrows()\n",
    "            ])\n",
    "            wrong_answers = np.array([\n",
    "                row['options'][random.choice(row['wrong_indices'])]\n",
    "                for i, row in batch.iterrows()\n",
    "            ])\n",
    "\n",
    "            yield {\n",
    "                'questions' : questions,\n",
    "                'correct_answers': correct_answers,\n",
    "                'wrong_answers': wrong_answers,\n",
    "            }\n",
    "        if not cycle:\n",
    "            break"
   ]
  },
  {
   "cell_type": "code",
   "execution_count": 12,
   "id": "09b78f8f",
   "metadata": {
    "execution": {
     "iopub.execute_input": "2023-04-03T11:00:01.183539Z",
     "iopub.status.busy": "2023-04-03T11:00:01.182972Z",
     "iopub.status.idle": "2023-04-03T11:00:01.193346Z",
     "shell.execute_reply": "2023-04-03T11:00:01.191584Z"
    },
    "papermill": {
     "duration": 0.02188,
     "end_time": "2023-04-03T11:00:01.196129",
     "exception": false,
     "start_time": "2023-04-03T11:00:01.174249",
     "status": "completed"
    },
    "tags": []
   },
   "outputs": [
    {
     "name": "stdout",
     "output_type": "stream",
     "text": [
      "{'questions': array(['What year did Rugby League start?',\n",
      "       'What Latin word does \"cardinal\" come from?',\n",
      "       'What may self-identification not correlate with precisely?'],\n",
      "      dtype=object), 'correct_answers': array(['Rugby League has also seen a representative fixture between Lancashire and Yorkshire contested 89 times since its inception in 1895.',\n",
      "       'The term cardinal at one time applied to any priest permanently assigned or incardinated to a church, or specifically to the senior priest of an important church, based on the Latin cardo (hinge), meaning \"principal\" or \"chief\".',\n",
      "       'And there are differences between sex and gender; self-identification may not be correlated with biology perfectly.'],\n",
      "      dtype='<U228'), 'wrong_answers': array([\"The county was once the focal point for many of the sport's professional competitions including the Lancashire League competition which ran from 1895 to 1970, and the Lancashire County Cup which was abandoned in 1993.\",\n",
      "       'The term was applied in this sense as early as the ninth century to the priests of the tituli (parishes) of the diocese of Rome.',\n",
      "       'One of the researchers, Neil Risch, noted: \"we looked at the correlation between genetic structure [based on microsatellite markers] versus self-description, we found 99.9% concordance between the two.'],\n",
      "      dtype='<U217')}\n"
     ]
    }
   ],
   "source": [
    "dummy_batch = next(iterate_minibatches(train.sample(3), 3))\n",
    "print(dummy_batch)"
   ]
  },
  {
   "cell_type": "markdown",
   "id": "650c89c5",
   "metadata": {
    "papermill": {
     "duration": 0.008157,
     "end_time": "2023-04-03T11:00:01.212833",
     "exception": false,
     "start_time": "2023-04-03T11:00:01.204676",
     "status": "completed"
    },
    "tags": []
   },
   "source": [
    "### Training: loss function (2 points)\n",
    "We want our vectorizers to put correct answers closer to question vectors and incorrect answers farther away from them. One way to express this is to use is Pairwise Hinge Loss _(aka Triplet Loss)_. \n",
    "\n",
    "$$ L = \\frac 1N \\underset {q, a^+, a^-} \\sum max(0, \\space \\delta - sim[V_q(q), V_a(a^+)] + sim[V_q(q), V_a(a^-)] )$$\n",
    "\n",
    ", where\n",
    "* sim[a, b] is some similarity function: dot product, cosine or negative distance\n",
    "* δ - loss hyperparameter, e.g. δ=1.0. If sim[a, b] is linear in b, all δ > 0 are equivalent.\n",
    "\n",
    "\n",
    "This reads as __Correct answers must be closer than the wrong ones by at least δ.__\n",
    "\n",
    "![img](https://raw.githubusercontent.com/yandexdataschool/nlp_course/master/resources/margin.png)\n",
    "<center>_image: question vector is green, correct answers are blue, incorrect answers are red_</center>\n",
    "\n",
    "\n",
    "Note: in effect, we train a Deep Semantic Similarity Model [DSSM](https://www.microsoft.com/en-us/research/project/dssm/). "
   ]
  },
  {
   "cell_type": "code",
   "execution_count": 13,
   "id": "c000fe49",
   "metadata": {
    "execution": {
     "iopub.execute_input": "2023-04-03T11:00:01.232050Z",
     "iopub.status.busy": "2023-04-03T11:00:01.231221Z",
     "iopub.status.idle": "2023-04-03T11:00:01.237495Z",
     "shell.execute_reply": "2023-04-03T11:00:01.236548Z"
    },
    "papermill": {
     "duration": 0.018253,
     "end_time": "2023-04-03T11:00:01.239584",
     "exception": false,
     "start_time": "2023-04-03T11:00:01.221331",
     "status": "completed"
    },
    "tags": []
   },
   "outputs": [],
   "source": [
    "def similarity(a, b):\n",
    "    \"\"\" Dot product as a similarity function \"\"\"\n",
    "    return torch.einsum('bc,bc->b', a, b)\n",
    "\n",
    "def compute_loss(question_vectors, correct_answer_vectors, wrong_answer_vectors, delta=1.0):\n",
    "    \"\"\" \n",
    "    Compute the triplet loss as per formula above.\n",
    "    Use similarity function above for  sim[a, b]\n",
    "    :param question_vectors: float32[batch_size, vector_size]\n",
    "    :param correct_answer_vectors: float32[batch_size, vector_size]\n",
    "    :param wrong_answer_vectors: float32[batch_size, vector_size]\n",
    "    :returns: loss for every row in batch, float32[batch_size]\n",
    "    Hint: you can compute max(0, *) using torch.relu :)\n",
    "    \"\"\"\n",
    "    sim_positive = similarity(question_vectors, correct_answer_vectors)\n",
    "    sim_negative = similarity(question_vectors, wrong_answer_vectors)\n",
    "    return torch.relu(delta - sim_positive + sim_negative)"
   ]
  },
  {
   "cell_type": "code",
   "execution_count": 14,
   "id": "390453d8",
   "metadata": {
    "execution": {
     "iopub.execute_input": "2023-04-03T11:00:01.257329Z",
     "iopub.status.busy": "2023-04-03T11:00:01.256795Z",
     "iopub.status.idle": "2023-04-03T11:00:01.273006Z",
     "shell.execute_reply": "2023-04-03T11:00:01.272008Z"
    },
    "papermill": {
     "duration": 0.02754,
     "end_time": "2023-04-03T11:00:01.275123",
     "exception": false,
     "start_time": "2023-04-03T11:00:01.247583",
     "status": "completed"
    },
    "tags": []
   },
   "outputs": [],
   "source": [
    "dummy_v1 = torch.tensor([[0.1, 0.2, -1], [-1.2, 0.6, 1.0]], dtype=torch.float32)\n",
    "dummy_v2 = torch.tensor([[0.9, 2.1, -6.6], [0.1, 0.8, -2.2]], dtype=torch.float32)\n",
    "dummy_v3 = torch.tensor([[-4.1, 0.1, 1.2], [0.3, -1, -2]], dtype=torch.float32)\n",
    "\n",
    "assert np.allclose(similarity(dummy_v1, dummy_v2).data.numpy(), [7.11, -1.84])\n",
    "assert np.allclose(compute_loss(dummy_v1, dummy_v2, dummy_v3, delta=5.0).data.numpy(), [0.0, 3.88])"
   ]
  },
  {
   "cell_type": "markdown",
   "id": "c9b51c62",
   "metadata": {
    "papermill": {
     "duration": 0.00814,
     "end_time": "2023-04-03T11:00:01.291457",
     "exception": false,
     "start_time": "2023-04-03T11:00:01.283317",
     "status": "completed"
    },
    "tags": []
   },
   "source": [
    "Once loss is working, let's train our model by our usual means."
   ]
  },
  {
   "cell_type": "code",
   "execution_count": 15,
   "id": "30e92055",
   "metadata": {
    "execution": {
     "iopub.execute_input": "2023-04-03T11:00:01.309359Z",
     "iopub.status.busy": "2023-04-03T11:00:01.308482Z",
     "iopub.status.idle": "2023-04-03T11:00:01.314611Z",
     "shell.execute_reply": "2023-04-03T11:00:01.313641Z"
    },
    "papermill": {
     "duration": 0.017171,
     "end_time": "2023-04-03T11:00:01.316676",
     "exception": false,
     "start_time": "2023-04-03T11:00:01.299505",
     "status": "completed"
    },
    "tags": []
   },
   "outputs": [],
   "source": [
    "# we also compute recall: the rate at which a^+ is closer to q than a^-\n",
    "def get_recall(questions, correct_answers, wrong_answers):\n",
    "\n",
    "    v_questions = question_vectorizer(list(questions))\n",
    "    v_correct = answer_vectorizer(list(correct_answers))\n",
    "    v_incorrect = answer_vectorizer(list(wrong_answers))\n",
    "\n",
    "    correct_is_closer = similarity(v_questions, v_correct) > similarity(v_questions, v_incorrect)\n",
    "    \n",
    "    return torch.mean(correct_is_closer.to(torch.float32)).item()"
   ]
  },
  {
   "cell_type": "code",
   "execution_count": 16,
   "id": "97961aeb",
   "metadata": {
    "execution": {
     "iopub.execute_input": "2023-04-03T11:00:01.334631Z",
     "iopub.status.busy": "2023-04-03T11:00:01.334108Z",
     "iopub.status.idle": "2023-04-03T11:00:01.395758Z",
     "shell.execute_reply": "2023-04-03T11:00:01.394870Z"
    },
    "papermill": {
     "duration": 0.073307,
     "end_time": "2023-04-03T11:00:01.398277",
     "exception": false,
     "start_time": "2023-04-03T11:00:01.324970",
     "status": "completed"
    },
    "tags": []
   },
   "outputs": [
    {
     "data": {
      "text/plain": [
       "0.6666666865348816"
      ]
     },
     "execution_count": 16,
     "metadata": {},
     "output_type": "execute_result"
    }
   ],
   "source": [
    "# make sure it works\n",
    "get_recall(**dummy_batch)"
   ]
  },
  {
   "cell_type": "markdown",
   "id": "a34950ce",
   "metadata": {
    "papermill": {
     "duration": 0.008248,
     "end_time": "2023-04-03T11:00:01.414873",
     "exception": false,
     "start_time": "2023-04-03T11:00:01.406625",
     "status": "completed"
    },
    "tags": []
   },
   "source": [
    "### Training loop\n",
    "\n",
    "Just as we always do, we can now train DSSM on minibatches and periodically measure recall on validation data.\n",
    "\n",
    "\n",
    "__Note 1:__ DSSM training may be very sensitive to the choice of batch size. Small batch size may decrease model quality.\n",
    "\n",
    "__Note 2:__ here we use the same dataset as __\"test set\"__ and __\"validation (dev) set\"__. \n",
    "\n",
    "In any serious scientific experiment, those must be two separate sets. Validation is for hyperparameter tuning and test is for final eval only.\n"
   ]
  },
  {
   "cell_type": "code",
   "execution_count": 17,
   "id": "e95e8094",
   "metadata": {
    "execution": {
     "iopub.execute_input": "2023-04-03T11:00:01.432512Z",
     "iopub.status.busy": "2023-04-03T11:00:01.432242Z",
     "iopub.status.idle": "2023-04-03T11:00:01.450028Z",
     "shell.execute_reply": "2023-04-03T11:00:01.448978Z"
    },
    "papermill": {
     "duration": 0.029171,
     "end_time": "2023-04-03T11:00:01.452194",
     "exception": false,
     "start_time": "2023-04-03T11:00:01.423023",
     "status": "completed"
    },
    "tags": []
   },
   "outputs": [],
   "source": [
    "import pandas as pd\n",
    "from IPython.display import clear_output\n",
    "from tqdm import tqdm\n",
    "\n",
    "\n",
    "# Initialize model, optimizers, anything else you want\n",
    "question_vectorizer = Vectorizer().to(device)\n",
    "answer_vectorizer = Vectorizer().to(device)\n",
    "\n",
    "all_layers = nn.ModuleList([question_vectorizer, answer_vectorizer])\n",
    "opt = torch.optim.Adam(all_layers.parameters())\n",
    "\n",
    "\n",
    "ewma = lambda x, span: pd.DataFrame({'x': x})['x'].ewm(span=span).mean().values\n",
    "dev_batches = iterate_minibatches(test, batch_size=256, cycle=True)\n",
    "loss_history = []\n",
    "dev_recall_history = []"
   ]
  },
  {
   "cell_type": "code",
   "execution_count": 18,
   "id": "a05a0f3a",
   "metadata": {
    "execution": {
     "iopub.execute_input": "2023-04-03T11:00:01.469936Z",
     "iopub.status.busy": "2023-04-03T11:00:01.469631Z",
     "iopub.status.idle": "2023-04-03T11:52:21.162102Z",
     "shell.execute_reply": "2023-04-03T11:52:21.161088Z"
    },
    "papermill": {
     "duration": 3139.705266,
     "end_time": "2023-04-03T11:52:21.165600",
     "exception": false,
     "start_time": "2023-04-03T11:00:01.460334",
     "status": "completed"
    },
    "tags": []
   },
   "outputs": [
    {
     "data": {
      "image/png": "[encoded data removed]",
      "text/plain": [
       "<Figure size 1200x600 with 2 Axes>"
      ]
     },
     "metadata": {},
     "output_type": "display_data"
    }
   ],
   "source": [
    "# infinite training loop. Stop it manually or implement early stopping\n",
    "\n",
    "for batch in iterate_minibatches(train, batch_size=256, cycle=True):\n",
    "    all_layers.train(True)\n",
    "    \n",
    "    # Perform one training step\n",
    "    v_questions = question_vectorizer(list(batch['questions']))\n",
    "    v_correct = answer_vectorizer(list(batch['correct_answers']))\n",
    "    v_incorrect = answer_vectorizer(list(batch['wrong_answers']))\n",
    "    \n",
    "    \n",
    "    loss_t = compute_loss(v_questions, v_correct, v_incorrect).mean()\n",
    "    loss_t.backward()\n",
    "    opt.step()\n",
    "    opt.zero_grad()\n",
    "    \n",
    "    loss_history.append(float(loss_t))\n",
    "    \n",
    "    if len(loss_history) % 50 == 0:\n",
    "        # measure dev recall = P(correct_is_closer_than_wrong | q, a+, a-)\n",
    "        dev_batch = next(dev_batches)\n",
    "        \n",
    "        all_layers.train(False)\n",
    "        recall_t = get_recall(**dev_batch)\n",
    "        \n",
    "        dev_recall_history.append(recall_t)\n",
    "    \n",
    "    if len(loss_history) % 50 == 0:\n",
    "        clear_output(True)\n",
    "        plt.figure(figsize=[12, 6])\n",
    "        plt.subplot(1, 2, 1), plt.title('train loss (hinge)'), plt.grid()\n",
    "        plt.scatter(np.arange(len(loss_history)), loss_history, alpha=0.1)\n",
    "        plt.plot(ewma(loss_history, span=100))\n",
    "        plt.subplot(1, 2, 2), plt.title('dev recall (1 correct vs 1 wrong)'), plt.grid()\n",
    "        dev_time = np.arange(1, len(dev_recall_history) + 1) * 100\n",
    "        plt.scatter(dev_time, dev_recall_history, alpha=0.1)\n",
    "        plt.plot(dev_time, ewma(dev_recall_history, span=10))\n",
    "        plt.show()\n",
    "        \n",
    "    if len(loss_history) >= 1500:\n",
    "        break"
   ]
  },
  {
   "cell_type": "code",
   "execution_count": 19,
   "id": "82701940",
   "metadata": {
    "execution": {
     "iopub.execute_input": "2023-04-03T11:52:21.188091Z",
     "iopub.status.busy": "2023-04-03T11:52:21.187488Z",
     "iopub.status.idle": "2023-04-03T11:52:21.194363Z",
     "shell.execute_reply": "2023-04-03T11:52:21.193352Z"
    },
    "papermill": {
     "duration": 0.020449,
     "end_time": "2023-04-03T11:52:21.196580",
     "exception": false,
     "start_time": "2023-04-03T11:52:21.176131",
     "status": "completed"
    },
    "tags": []
   },
   "outputs": [
    {
     "name": "stdout",
     "output_type": "stream",
     "text": [
      "Mean recall: 0.8078125\n",
      "Well done!\n"
     ]
    }
   ],
   "source": [
    "print(\"Mean recall:\", np.mean(dev_recall_history[-10:]))\n",
    "assert np.mean(dev_recall_history[-10:]) > 0.8, \"Please train for at least 82% recall on test set. \"\\\n",
    "                                                  \"You may need to change vectorizer model for that.\"\n",
    "print(\"Well done!\")"
   ]
  },
  {
   "cell_type": "markdown",
   "id": "753b985e",
   "metadata": {
    "papermill": {
     "duration": 0.010094,
     "end_time": "2023-04-03T11:52:21.216823",
     "exception": false,
     "start_time": "2023-04-03T11:52:21.206729",
     "status": "completed"
    },
    "tags": []
   },
   "source": [
    "# Final evaluation (1 point)\n",
    "\n",
    "Let's see how well does our model perform on actual question answering. \n",
    "\n",
    "Given a question and a set of possible answers, pick answer with highest similarity to estimate accuracy."
   ]
  },
  {
   "cell_type": "code",
   "execution_count": 20,
   "id": "8a7f06ca",
   "metadata": {
    "execution": {
     "iopub.execute_input": "2023-04-03T11:52:21.239369Z",
     "iopub.status.busy": "2023-04-03T11:52:21.238476Z",
     "iopub.status.idle": "2023-04-03T11:52:21.247315Z",
     "shell.execute_reply": "2023-04-03T11:52:21.246421Z"
    },
    "papermill": {
     "duration": 0.022248,
     "end_time": "2023-04-03T11:52:21.249351",
     "exception": false,
     "start_time": "2023-04-03T11:52:21.227103",
     "status": "completed"
    },
    "tags": []
   },
   "outputs": [],
   "source": [
    "all_layers.train(False)\n",
    "\n",
    "def select_best_answer(question, possible_answers):\n",
    "    \"\"\"\n",
    "    Predicts which answer best fits the question\n",
    "    :param question: a single string containing a question\n",
    "    :param possible_answers: a list of strings containing possible answers\n",
    "    :returns: integer - the index of best answer in possible_answer\n",
    "    \"\"\"\n",
    "    with torch.no_grad():\n",
    "        question_embed = question_vectorizer(question)\n",
    "        answers_embed = answer_vectorizer(possible_answers)\n",
    "    \n",
    "    scored_answer_embed = []\n",
    "    for i, answer_embed in enumerate(answers_embed):\n",
    "        scored_answer_embed.append((similarity(question_embed, answer_embed.unsqueeze(0)), i))\n",
    "        \n",
    "    scored_answer_embed.sort(key=lambda x: x[0], reverse=True)\n",
    "    \n",
    "    return scored_answer_embed[0][1]\n",
    "    "
   ]
  },
  {
   "cell_type": "code",
   "execution_count": 21,
   "id": "084a088a",
   "metadata": {
    "execution": {
     "iopub.execute_input": "2023-04-03T11:52:21.271610Z",
     "iopub.status.busy": "2023-04-03T11:52:21.271044Z",
     "iopub.status.idle": "2023-04-03T12:01:43.285677Z",
     "shell.execute_reply": "2023-04-03T12:01:43.284596Z"
    },
    "papermill": {
     "duration": 562.028907,
     "end_time": "2023-04-03T12:01:43.288662",
     "exception": false,
     "start_time": "2023-04-03T11:52:21.259755",
     "status": "completed"
    },
    "tags": []
   },
   "outputs": [
    {
     "data": {
      "application/vnd.jupyter.widget-view+json": {
       "model_id": "263b9d6b65ff4a4f904e831ed47145a0",
       "version_major": 2,
       "version_minor": 0
      },
      "text/plain": [
       "  0%|          | 0/26970 [00:00<?, ?it/s]"
      ]
     },
     "metadata": {},
     "output_type": "display_data"
    },
    {
     "name": "stdout",
     "output_type": "stream",
     "text": [
      "Accuracy: 0.60056\n",
      "Great job!\n"
     ]
    }
   ],
   "source": [
    "from tqdm.notebook import tqdm\n",
    "\n",
    "predicted_answers = [\n",
    "    select_best_answer(question, possible_answers)\n",
    "    for i, (question, possible_answers) in tqdm(test[['question', 'options']].iterrows(), total=len(test))\n",
    "]\n",
    "\n",
    "accuracy = np.mean([\n",
    "    answer in correct_ix\n",
    "    for answer, correct_ix in zip(predicted_answers, test['correct_indices'].values)\n",
    "])\n",
    "print(\"Accuracy: %0.5f\" % accuracy)\n",
    "assert accuracy > 0.6, \"we need more accuracy!\"\n",
    "print(\"Great job!\")"
   ]
  },
  {
   "cell_type": "code",
   "execution_count": 22,
   "id": "93317bc6",
   "metadata": {
    "execution": {
     "iopub.execute_input": "2023-04-03T12:01:43.312489Z",
     "iopub.status.busy": "2023-04-03T12:01:43.311895Z",
     "iopub.status.idle": "2023-04-03T12:01:43.318237Z",
     "shell.execute_reply": "2023-04-03T12:01:43.317320Z"
    },
    "papermill": {
     "duration": 0.020062,
     "end_time": "2023-04-03T12:01:43.320458",
     "exception": false,
     "start_time": "2023-04-03T12:01:43.300396",
     "status": "completed"
    },
    "tags": []
   },
   "outputs": [],
   "source": [
    "def draw_results(question, possible_answers, predicted_index, correct_indices):\n",
    "    print(\"Q:\", question, end='\\n\\n')\n",
    "    for i, answer in enumerate(possible_answers):\n",
    "        print(\"#%i: %s %s\" % (i, '[*]' if i == predicted_index else '[ ]', answer))\n",
    "    \n",
    "    print(\"\\nVerdict:\", \"CORRECT\" if predicted_index in correct_indices else \"INCORRECT\", \n",
    "          \"(ref: %s)\" % correct_indices, end='\\n' * 3)"
   ]
  },
  {
   "cell_type": "code",
   "execution_count": 23,
   "id": "47aa03a4",
   "metadata": {
    "execution": {
     "iopub.execute_input": "2023-04-03T12:01:43.343182Z",
     "iopub.status.busy": "2023-04-03T12:01:43.342375Z",
     "iopub.status.idle": "2023-04-03T12:01:43.353868Z",
     "shell.execute_reply": "2023-04-03T12:01:43.351000Z"
    },
    "papermill": {
     "duration": 0.02568,
     "end_time": "2023-04-03T12:01:43.356556",
     "exception": false,
     "start_time": "2023-04-03T12:01:43.330876",
     "status": "completed"
    },
    "tags": []
   },
   "outputs": [
    {
     "name": "stdout",
     "output_type": "stream",
     "text": [
      "Q: Which three countries did Beyonce's song \"Work It Out\" achieve top ten status?\n",
      "\n",
      "#0: [*] In July 2002, Beyoncé continued her acting career playing Foxxy Cleopatra alongside Mike Myers in the comedy film, Austin Powers in Goldmember, which spent its first weekend atop the US box office and grossed $73 million.\n",
      "#1: [ ] Beyoncé released \"Work It Out\" as the lead single from its soundtrack album which entered the top ten in the UK, Norway, and Belgium.\n",
      "#2: [ ] In 2003, Beyoncé starred opposite Cuba Gooding, Jr., in the musical comedy The Fighting Temptations as Lilly, a single mother whom Gooding's character falls in love with.\n",
      "#3: [ ] The film received mixed reviews from critics but grossed $30 million in the U.S. Beyoncé released \"Fighting Temptation\" as the lead single from the film's soundtrack album, with Missy Elliott, MC Lyte, and Free which was also used to promote the film.\n",
      "#4: [ ] Another of Beyoncé's contributions to the soundtrack, \"Summertime\", fared better on the US charts.\n",
      "\n",
      "Verdict: INCORRECT (ref: [1])\n",
      "\n",
      "\n",
      "Q: Jay Z has a website called what?\n",
      "\n",
      "#0: [*] On January 7, 2012, Beyoncé gave birth to a daughter, Blue Ivy Carter, at Lenox Hill Hospital in New York under heavy security.\n",
      "#1: [ ] Two days later, Jay Z released \"Glory\", a song dedicated to their child, on his website Lifeandtimes.com.\n",
      "#2: [ ] The song detailed the couple's pregnancy struggles, including a miscarriage Beyoncé suffered before becoming pregnant with Blue Ivy.\n",
      "#3: [ ] Blue Ivy's cries are included at the end of the song, and she was officially credited as \"B.I.C.\"\n",
      "#4: [ ] on it. At two days old, she became the youngest person ever to appear on a Billboard chart when \"Glory\" debuted on the Hot R&B/Hip-Hop Songs chart.\n",
      "\n",
      "Verdict: INCORRECT (ref: [1])\n",
      "\n",
      "\n",
      "Q: In what year did the state of New York pass a law to free the slaves?\n",
      "\n",
      "#0: [*] Under New York State's gradual abolition act of 1799, children of slave mothers were born to be eventually liberated but were held in indentured servitude until their mid-to-late twenties.\n",
      "#1: [ ] Together with slaves freed by their masters after the Revolutionary War and escaped slaves, a significant free-black population gradually developed in Manhattan.\n",
      "#2: [ ] Under such influential United States founders as Alexander Hamilton and John Jay, the New York Manumission Society worked for abolition and established the African Free School to educate black children.\n",
      "#3: [ ] It was not until 1827 that slavery was completely abolished in the state, and free blacks struggled afterward with discrimination.\n",
      "#4: [ ] New York interracial abolitionist activism continued; among its leaders were graduates of the African Free School.\n",
      "#5: [ ] The city's black population reached more than 16,000 in 1840.\n",
      "\n",
      "Verdict: CORRECT (ref: [0])\n",
      "\n",
      "\n",
      "Q: How many Special Police protected the relay event?\n",
      "\n",
      "#0: [ ] Malaysia: The event was held in the capital city, Kuala Lumpur, on April 21.\n",
      "#1: [ ] The 16.5 km long-relay began from the historic Independence Square, passed in front of several city landmarks before coming to an end at the iconic Petronas Twin Towers.\n",
      "#2: [ ] Among the landmarks the Olympic flame passed next to were the Parliament House, National Mosque, KL Tower and Merdeka Stadium.\n",
      "#3: [*] A team of 1000 personnel from the Malaysian police Special Action Squad guarded the event and escorted the torchbearers.\n",
      "#4: [ ] The last time an Olympic torch relay was held in Malaysia was the 1964 Tokyo edition.\n",
      "\n",
      "Verdict: CORRECT (ref: [3])\n",
      "\n",
      "\n",
      "Q: When the Soviet Union ended in 1991, what was the RSFSR government called?\n",
      "\n",
      "#0: [*] The Government was known officially as the Council of People's Commissars (1917–1946), Council of Ministers (1946–1978) and Council of Ministers–Government (1978–1991).\n",
      "#1: [ ] The first government was headed by Vladimir Lenin as \"Chairman of the Council of People's Commissars of the Russian SFSR\" and the last by Boris Yeltsin as both head of government and head of state under the title \"President\".\n",
      "\n",
      "Verdict: CORRECT (ref: [0])\n",
      "\n",
      "\n",
      "Q: What radio station format is facing demographic pressures in the present day?\n",
      "\n",
      "#0: [*] The soft AC format may soon be facing the demographic pressures that the jazz and big band formats faced in the 1960s and 1970s and that the oldies format is starting to face today, with the result that one may hear soft AC less on over-the-air radio and more on satellite radio systems in coming years.\n",
      "#1: [ ] Much of the music and artists that were traditionally played on soft AC stations have been relegated to the adult standards format, which is itself disappearing because of aging demographics.\n",
      "#2: [ ] Some soft AC stations have found a niche by incorporating more oldies into their playlists and are more open to playing softer songs that fit the \"traditional\" definition of AC.\n",
      "\n",
      "Verdict: CORRECT (ref: [0])\n",
      "\n",
      "\n",
      "Q: Where was the street named after Tito that was found unconstitutional located?\n",
      "\n",
      "#0: [ ] In the years following the dissolution of Yugoslavia, some historians stated that human rights were suppressed in Yugoslavia under Tito, particularly in the first decade up until the Tito-Stalin split.\n",
      "#1: [*] On 4 October 2011, the Slovenian Constitutional Court found a 2009 naming of a street in Ljubljana after Tito to be unconstitutional.\n",
      "#2: [ ] While several public areas in Slovenia (named during the Yugoslav period) do already bear Tito's name, on the issue of renaming an additional street the court ruled that:\n",
      "\n",
      "Verdict: CORRECT (ref: [1])\n",
      "\n",
      "\n"
     ]
    }
   ],
   "source": [
    "for i in [1, 100, 1000, 2000, 3000, 4000, 5000]:\n",
    "    draw_results(test.iloc[i].question, test.iloc[i].options,\n",
    "                 predicted_answers[i], test.iloc[i].correct_indices)"
   ]
  },
  {
   "cell_type": "code",
   "execution_count": 24,
   "id": "199da6d0",
   "metadata": {
    "execution": {
     "iopub.execute_input": "2023-04-03T12:01:43.379650Z",
     "iopub.status.busy": "2023-04-03T12:01:43.378880Z",
     "iopub.status.idle": "2023-04-03T12:01:43.401918Z",
     "shell.execute_reply": "2023-04-03T12:01:43.400184Z"
    },
    "papermill": {
     "duration": 0.037372,
     "end_time": "2023-04-03T12:01:43.404725",
     "exception": false,
     "start_time": "2023-04-03T12:01:43.367353",
     "status": "completed"
    },
    "tags": []
   },
   "outputs": [
    {
     "name": "stdout",
     "output_type": "stream",
     "text": [
      "Q: What is my name?\n",
      "\n",
      "#0: [ ] Your name is Satoshi Nakamoto\n",
      "#1: [ ] London is the capital of Great Britain\n",
      "#2: [*] Your name was first mentioned in 1086\n",
      "#3: [ ] Ivan is the founder of Tesla\n",
      "\n",
      "Verdict: INCORRECT (ref: [0])\n",
      "\n",
      "\n"
     ]
    }
   ],
   "source": [
    "question = \"What is my name?\" # your question here!\n",
    "possible_answers = [\n",
    "    'Your name is Satoshi Nakamoto',\n",
    "    'London is the capital of Great Britain',\n",
    "    'Your name was first mentioned in 1086',\n",
    "    'Ivan is the founder of Tesla'\n",
    "]\n",
    "predicted_answer = select_best_answer(question, possible_answers)\n",
    "\n",
    "draw_results(question, possible_answers,\n",
    "             predicted_answer, [0])"
   ]
  }
 ],
 "metadata": {
  "kernelspec": {
   "display_name": "Python 3",
   "language": "python",
   "name": "python3"
  },
  "language_info": {
   "codemirror_mode": {
    "name": "ipython",
    "version": 3
   },
   "file_extension": ".py",
   "mimetype": "text/x-python",
   "name": "python",
   "nbconvert_exporter": "python",
   "pygments_lexer": "ipython3",
   "version": "3.7.12"
  },
  "papermill": {
   "default_parameters": {},
   "duration": 3760.44841,
   "end_time": "2023-04-03T12:01:46.697990",
   "environment_variables": {},
   "exception": null,
   "input_path": "__notebook__.ipynb",
   "output_path": "__notebook__.ipynb",
   "parameters": {},
   "start_time": "2023-04-03T10:59:06.249580",
   "version": "2.4.0"
  },
  "widgets": {
   "application/vnd.jupyter.widget-state+json": {
    "state": {
     "00c02bdb794646bea7e276b9d7f5799f": {
      "model_module": "@jupyter-widgets/controls",
      "model_module_version": "1.5.0",
      "model_name": "FloatProgressModel",
      "state": {
       "_dom_classes": [],
       "_model_module": "@jupyter-widgets/controls",
       "_model_module_version": "1.5.0",
       "_model_name": "FloatProgressModel",
       "_view_count": null,
       "_view_module": "@jupyter-widgets/controls",
       "_view_module_version": "1.5.0",
       "_view_name": "ProgressView",
       "bar_style": "success",
       "description": "",
       "description_tooltip": null,
       "layout": "IPY_MODEL_f69ca89730214a30844b50c84490c6ba",
       "max": 399.0,
       "min": 0.0,
       "orientation": "horizontal",
       "style": "IPY_MODEL_0c67f99370084f3b90886150af6dd9e6",
       "value": 399.0
      }
     },
     "00ede9b138494ee1a53e7c0fd103b022": {
      "model_module": "@jupyter-widgets/controls",
      "model_module_version": "1.5.0",
      "model_name": "ProgressStyleModel",
      "state": {
       "_model_module": "@jupyter-widgets/controls",
       "_model_module_version": "1.5.0",
       "_model_name": "ProgressStyleModel",
       "_view_count": null,
       "_view_module": "@jupyter-widgets/base",
       "_view_module_version": "1.2.0",
       "_view_name": "StyleView",
       "bar_color": null,
       "description_width": ""
      }
     },
     "02a10c96631746b482715fd692dec3a9": {
      "model_module": "@jupyter-widgets/base",
      "model_module_version": "1.2.0",
      "model_name": "LayoutModel",
      "state": {
       "_model_module": "@jupyter-widgets/base",
       "_model_module_version": "1.2.0",
       "_model_name": "LayoutModel",
       "_view_count": null,
       "_view_module": "@jupyter-widgets/base",
       "_view_module_version": "1.2.0",
       "_view_name": "LayoutView",
       "align_content": null,
       "align_items": null,
       "align_self": null,
       "border": null,
       "bottom": null,
       "display": null,
       "flex": null,
       "flex_flow": null,
       "grid_area": null,
       "grid_auto_columns": null,
       "grid_auto_flow": null,
       "grid_auto_rows": null,
       "grid_column": null,
       "grid_gap": null,
       "grid_row": null,
       "grid_template_areas": null,
       "grid_template_columns": null,
       "grid_template_rows": null,
       "height": null,
       "justify_content": null,
       "justify_items": null,
       "left": null,
       "margin": null,
       "max_height": null,
       "max_width": null,
       "min_height": null,
       "min_width": null,
       "object_fit": null,
       "object_position": null,
       "order": null,
       "overflow": null,
       "overflow_x": null,
       "overflow_y": null,
       "padding": null,
       "right": null,
       "top": null,
       "visibility": null,
       "width": null
      }
     },
     "046512e99c96422db673a76129495a72": {
      "model_module": "@jupyter-widgets/controls",
      "model_module_version": "1.5.0",
      "model_name": "HBoxModel",
      "state": {
       "_dom_classes": [],
       "_model_module": "@jupyter-widgets/controls",
       "_model_module_version": "1.5.0",
       "_model_name": "HBoxModel",
       "_view_count": null,
       "_view_module": "@jupyter-widgets/controls",
       "_view_module_version": "1.5.0",
       "_view_name": "HBoxView",
       "box_style": "",
       "children": [
        "IPY_MODEL_18b2d95bd9304e32b751a62fdda6310f",
        "IPY_MODEL_22fc6ee9b0fa4b2f8a85b9f458d9fcd6",
        "IPY_MODEL_d3352190df5244a69734d81dc1e33326"
       ],
       "layout": "IPY_MODEL_5f594d165dd84848a4c6deca20263047"
      }
     },
     "0c1325ac7afc41d9a2601ca0051ded5e": {
      "model_module": "@jupyter-widgets/controls",
      "model_module_version": "1.5.0",
      "model_name": "DescriptionStyleModel",
      "state": {
       "_model_module": "@jupyter-widgets/controls",
       "_model_module_version": "1.5.0",
       "_model_name": "DescriptionStyleModel",
       "_view_count": null,
       "_view_module": "@jupyter-widgets/base",
       "_view_module_version": "1.2.0",
       "_view_name": "StyleView",
       "description_width": ""
      }
     },
     "0c67f99370084f3b90886150af6dd9e6": {
      "model_module": "@jupyter-widgets/controls",
      "model_module_version": "1.5.0",
      "model_name": "ProgressStyleModel",
      "state": {
       "_model_module": "@jupyter-widgets/controls",
       "_model_module_version": "1.5.0",
       "_model_name": "ProgressStyleModel",
       "_view_count": null,
       "_view_module": "@jupyter-widgets/base",
       "_view_module_version": "1.2.0",
       "_view_name": "StyleView",
       "bar_color": null,
       "description_width": ""
      }
     },
     "150f160ef1184348a8148d9d02edec5c": {
      "model_module": "@jupyter-widgets/controls",
      "model_module_version": "1.5.0",
      "model_name": "DescriptionStyleModel",
      "state": {
       "_model_module": "@jupyter-widgets/controls",
       "_model_module_version": "1.5.0",
       "_model_name": "DescriptionStyleModel",
       "_view_count": null,
       "_view_module": "@jupyter-widgets/base",
       "_view_module_version": "1.2.0",
       "_view_name": "StyleView",
       "description_width": ""
      }
     },
     "1877287a6c97403d8f83b63b95a2c190": {
      "model_module": "@jupyter-widgets/controls",
      "model_module_version": "1.5.0",
      "model_name": "HTMLModel",
      "state": {
       "_dom_classes": [],
       "_model_module": "@jupyter-widgets/controls",
       "_model_module_version": "1.5.0",
       "_model_name": "HTMLModel",
       "_view_count": null,
       "_view_module": "@jupyter-widgets/controls",
       "_view_module_version": "1.5.0",
       "_view_name": "HTMLView",
       "description": "",
       "description_tooltip": null,
       "layout": "IPY_MODEL_622578fadb4a45f4aeea4acb3a1c84ef",
       "placeholder": "​",
       "style": "IPY_MODEL_47ca7b97424542409c30a0a7b7d9fb44",
       "value": " 112/112 [00:00&lt;00:00, 6.51kB/s]"
      }
     },
     "189f382ef86d4eb7a8f995ea37a9a1ff": {
      "model_module": "@jupyter-widgets/controls",
      "model_module_version": "1.5.0",
      "model_name": "ProgressStyleModel",
      "state": {
       "_model_module": "@jupyter-widgets/controls",
       "_model_module_version": "1.5.0",
       "_model_name": "ProgressStyleModel",
       "_view_count": null,
       "_view_module": "@jupyter-widgets/base",
       "_view_module_version": "1.2.0",
       "_view_name": "StyleView",
       "bar_color": null,
       "description_width": ""
      }
     },
     "18b2d95bd9304e32b751a62fdda6310f": {
      "model_module": "@jupyter-widgets/controls",
      "model_module_version": "1.5.0",
      "model_name": "HTMLModel",
      "state": {
       "_dom_classes": [],
       "_model_module": "@jupyter-widgets/controls",
       "_model_module_version": "1.5.0",
       "_model_name": "HTMLModel",
       "_view_count": null,
       "_view_module": "@jupyter-widgets/controls",
       "_view_module_version": "1.5.0",
       "_view_name": "HTMLView",
       "description": "",
       "description_tooltip": null,
       "layout": "IPY_MODEL_f968859fd0fa41c981979a6251b53d8f",
       "placeholder": "​",
       "style": "IPY_MODEL_a5c624dd5d4d4fe0b5f95cdf4fd96ae8",
       "value": "Downloading pytorch_model.bin: 100%"
      }
     },
     "1a39c66a30f5495282da07f174d5b3cf": {
      "model_module": "@jupyter-widgets/controls",
      "model_module_version": "1.5.0",
      "model_name": "HBoxModel",
      "state": {
       "_dom_classes": [],
       "_model_module": "@jupyter-widgets/controls",
       "_model_module_version": "1.5.0",
       "_model_name": "HBoxModel",
       "_view_count": null,
       "_view_module": "@jupyter-widgets/controls",
       "_view_module_version": "1.5.0",
       "_view_name": "HBoxView",
       "box_style": "",
       "children": [
        "IPY_MODEL_81d95ec765cb447b8f0cd77287b690e3",
        "IPY_MODEL_cbdc8f0b82694fe6a2008d09eb20a9cc",
        "IPY_MODEL_5b8d93fdafce4aacabd6a774f3e18f99"
       ],
       "layout": "IPY_MODEL_572d805b5c8743c19cd64cdd5aab6296"
      }
     },
     "1c078f74eebd4d5eb34e714776774dac": {
      "model_module": "@jupyter-widgets/base",
      "model_module_version": "1.2.0",
      "model_name": "LayoutModel",
      "state": {
       "_model_module": "@jupyter-widgets/base",
       "_model_module_version": "1.2.0",
       "_model_name": "LayoutModel",
       "_view_count": null,
       "_view_module": "@jupyter-widgets/base",
       "_view_module_version": "1.2.0",
       "_view_name": "LayoutView",
       "align_content": null,
       "align_items": null,
       "align_self": null,
       "border": null,
       "bottom": null,
       "display": null,
       "flex": null,
       "flex_flow": null,
       "grid_area": null,
       "grid_auto_columns": null,
       "grid_auto_flow": null,
       "grid_auto_rows": null,
       "grid_column": null,
       "grid_gap": null,
       "grid_row": null,
       "grid_template_areas": null,
       "grid_template_columns": null,
       "grid_template_rows": null,
       "height": null,
       "justify_content": null,
       "justify_items": null,
       "left": null,
       "margin": null,
       "max_height": null,
       "max_width": null,
       "min_height": null,
       "min_width": null,
       "object_fit": null,
       "object_position": null,
       "order": null,
       "overflow": null,
       "overflow_x": null,
       "overflow_y": null,
       "padding": null,
       "right": null,
       "top": null,
       "visibility": null,
       "width": null
      }
     },
     "1d7dff09fcd143f7b8c5f232b1021598": {
      "model_module": "@jupyter-widgets/controls",
      "model_module_version": "1.5.0",
      "model_name": "HTMLModel",
      "state": {
       "_dom_classes": [],
       "_model_module": "@jupyter-widgets/controls",
       "_model_module_version": "1.5.0",
       "_model_name": "HTMLModel",
       "_view_count": null,
       "_view_module": "@jupyter-widgets/controls",
       "_view_module_version": "1.5.0",
       "_view_name": "HTMLView",
       "description": "",
       "description_tooltip": null,
       "layout": "IPY_MODEL_bc435ff14fbc4fb4a36a4ba9132ce7dc",
       "placeholder": "​",
       "style": "IPY_MODEL_e326d99dadda476fad6fe0f9e3fcacb4",
       "value": "100%"
      }
     },
     "22fc6ee9b0fa4b2f8a85b9f458d9fcd6": {
      "model_module": "@jupyter-widgets/controls",
      "model_module_version": "1.5.0",
      "model_name": "FloatProgressModel",
      "state": {
       "_dom_classes": [],
       "_model_module": "@jupyter-widgets/controls",
       "_model_module_version": "1.5.0",
       "_model_name": "FloatProgressModel",
       "_view_count": null,
       "_view_module": "@jupyter-widgets/controls",
       "_view_module_version": "1.5.0",
       "_view_name": "ProgressView",
       "bar_style": "success",
       "description": "",
       "description_tooltip": null,
       "layout": "IPY_MODEL_8ce20db1c116446db4ff70d1c88fa7cd",
       "max": 438007537.0,
       "min": 0.0,
       "orientation": "horizontal",
       "style": "IPY_MODEL_189f382ef86d4eb7a8f995ea37a9a1ff",
       "value": 438007537.0
      }
     },
     "23aadb645ac04d5eb1a45f37443f54f7": {
      "model_module": "@jupyter-widgets/base",
      "model_module_version": "1.2.0",
      "model_name": "LayoutModel",
      "state": {
       "_model_module": "@jupyter-widgets/base",
       "_model_module_version": "1.2.0",
       "_model_name": "LayoutModel",
       "_view_count": null,
       "_view_module": "@jupyter-widgets/base",
       "_view_module_version": "1.2.0",
       "_view_name": "LayoutView",
       "align_content": null,
       "align_items": null,
       "align_self": null,
       "border": null,
       "bottom": null,
       "display": null,
       "flex": null,
       "flex_flow": null,
       "grid_area": null,
       "grid_auto_columns": null,
       "grid_auto_flow": null,
       "grid_auto_rows": null,
       "grid_column": null,
       "grid_gap": null,
       "grid_row": null,
       "grid_template_areas": null,
       "grid_template_columns": null,
       "grid_template_rows": null,
       "height": null,
       "justify_content": null,
       "justify_items": null,
       "left": null,
       "margin": null,
       "max_height": null,
       "max_width": null,
       "min_height": null,
       "min_width": null,
       "object_fit": null,
       "object_position": null,
       "order": null,
       "overflow": null,
       "overflow_x": null,
       "overflow_y": null,
       "padding": null,
       "right": null,
       "top": null,
       "visibility": null,
       "width": null
      }
     },
     "263b9d6b65ff4a4f904e831ed47145a0": {
      "model_module": "@jupyter-widgets/controls",
      "model_module_version": "1.5.0",
      "model_name": "HBoxModel",
      "state": {
       "_dom_classes": [],
       "_model_module": "@jupyter-widgets/controls",
       "_model_module_version": "1.5.0",
       "_model_name": "HBoxModel",
       "_view_count": null,
       "_view_module": "@jupyter-widgets/controls",
       "_view_module_version": "1.5.0",
       "_view_name": "HBoxView",
       "box_style": "",
       "children": [
        "IPY_MODEL_1d7dff09fcd143f7b8c5f232b1021598",
        "IPY_MODEL_6763c463a33746588e675e1d94f4bfbe",
        "IPY_MODEL_e4ef9ca9b84848fa946332264b02a684"
       ],
       "layout": "IPY_MODEL_ca72cfa0834e4e31a76add6fede86d61"
      }
     },
     "26cc36cc7d21469e8c5a66feac725e35": {
      "model_module": "@jupyter-widgets/controls",
      "model_module_version": "1.5.0",
      "model_name": "HTMLModel",
      "state": {
       "_dom_classes": [],
       "_model_module": "@jupyter-widgets/controls",
       "_model_module_version": "1.5.0",
       "_model_name": "HTMLModel",
       "_view_count": null,
       "_view_module": "@jupyter-widgets/controls",
       "_view_module_version": "1.5.0",
       "_view_name": "HTMLView",
       "description": "",
       "description_tooltip": null,
       "layout": "IPY_MODEL_2dea6d27562b40379daa94a30a72d8ef",
       "placeholder": "​",
       "style": "IPY_MODEL_9c7c42c00e3d44679b8dff20434f1ede",
       "value": "Downloading (…)/main/tokenizer.json: 100%"
      }
     },
     "2da24b446afe4ba0aa0f66313f9f782e": {
      "model_module": "@jupyter-widgets/controls",
      "model_module_version": "1.5.0",
      "model_name": "DescriptionStyleModel",
      "state": {
       "_model_module": "@jupyter-widgets/controls",
       "_model_module_version": "1.5.0",
       "_model_name": "DescriptionStyleModel",
       "_view_count": null,
       "_view_module": "@jupyter-widgets/base",
       "_view_module_version": "1.2.0",
       "_view_name": "StyleView",
       "description_width": ""
      }
     },
     "2dea6d27562b40379daa94a30a72d8ef": {
      "model_module": "@jupyter-widgets/base",
      "model_module_version": "1.2.0",
      "model_name": "LayoutModel",
      "state": {
       "_model_module": "@jupyter-widgets/base",
       "_model_module_version": "1.2.0",
       "_model_name": "LayoutModel",
       "_view_count": null,
       "_view_module": "@jupyter-widgets/base",
       "_view_module_version": "1.2.0",
       "_view_name": "LayoutView",
       "align_content": null,
       "align_items": null,
       "align_self": null,
       "border": null,
       "bottom": null,
       "display": null,
       "flex": null,
       "flex_flow": null,
       "grid_area": null,
       "grid_auto_columns": null,
       "grid_auto_flow": null,
       "grid_auto_rows": null,
       "grid_column": null,
       "grid_gap": null,
       "grid_row": null,
       "grid_template_areas": null,
       "grid_template_columns": null,
       "grid_template_rows": null,
       "height": null,
       "justify_content": null,
       "justify_items": null,
       "left": null,
       "margin": null,
       "max_height": null,
       "max_width": null,
       "min_height": null,
       "min_width": null,
       "object_fit": null,
       "object_position": null,
       "order": null,
       "overflow": null,
       "overflow_x": null,
       "overflow_y": null,
       "padding": null,
       "right": null,
       "top": null,
       "visibility": null,
       "width": null
      }
     },
     "35f62d6d7db94e488f14046361e47a34": {
      "model_module": "@jupyter-widgets/controls",
      "model_module_version": "1.5.0",
      "model_name": "HBoxModel",
      "state": {
       "_dom_classes": [],
       "_model_module": "@jupyter-widgets/controls",
       "_model_module_version": "1.5.0",
       "_model_name": "HBoxModel",
       "_view_count": null,
       "_view_module": "@jupyter-widgets/controls",
       "_view_module_version": "1.5.0",
       "_view_name": "HBoxView",
       "box_style": "",
       "children": [
        "IPY_MODEL_dcc3a1f1e62d440392d985b417fd4ed0",
        "IPY_MODEL_f3788429a2b5434595f3658d7c90542e",
        "IPY_MODEL_885626461490441f9738f87f53d0453e"
       ],
       "layout": "IPY_MODEL_6195c6bdf149443c87018f8205bfa344"
      }
     },
     "36301483e99a4cee9017ec5511ae4452": {
      "model_module": "@jupyter-widgets/base",
      "model_module_version": "1.2.0",
      "model_name": "LayoutModel",
      "state": {
       "_model_module": "@jupyter-widgets/base",
       "_model_module_version": "1.2.0",
       "_model_name": "LayoutModel",
       "_view_count": null,
       "_view_module": "@jupyter-widgets/base",
       "_view_module_version": "1.2.0",
       "_view_name": "LayoutView",
       "align_content": null,
       "align_items": null,
       "align_self": null,
       "border": null,
       "bottom": null,
       "display": null,
       "flex": null,
       "flex_flow": null,
       "grid_area": null,
       "grid_auto_columns": null,
       "grid_auto_flow": null,
       "grid_auto_rows": null,
       "grid_column": null,
       "grid_gap": null,
       "grid_row": null,
       "grid_template_areas": null,
       "grid_template_columns": null,
       "grid_template_rows": null,
       "height": null,
       "justify_content": null,
       "justify_items": null,
       "left": null,
       "margin": null,
       "max_height": null,
       "max_width": null,
       "min_height": null,
       "min_width": null,
       "object_fit": null,
       "object_position": null,
       "order": null,
       "overflow": null,
       "overflow_x": null,
       "overflow_y": null,
       "padding": null,
       "right": null,
       "top": null,
       "visibility": null,
       "width": null
      }
     },
     "36bbb414bec54bd9a94c4a15f26b2f55": {
      "model_module": "@jupyter-widgets/base",
      "model_module_version": "1.2.0",
      "model_name": "LayoutModel",
      "state": {
       "_model_module": "@jupyter-widgets/base",
       "_model_module_version": "1.2.0",
       "_model_name": "LayoutModel",
       "_view_count": null,
       "_view_module": "@jupyter-widgets/base",
       "_view_module_version": "1.2.0",
       "_view_name": "LayoutView",
       "align_content": null,
       "align_items": null,
       "align_self": null,
       "border": null,
       "bottom": null,
       "display": null,
       "flex": null,
       "flex_flow": null,
       "grid_area": null,
       "grid_auto_columns": null,
       "grid_auto_flow": null,
       "grid_auto_rows": null,
       "grid_column": null,
       "grid_gap": null,
       "grid_row": null,
       "grid_template_areas": null,
       "grid_template_columns": null,
       "grid_template_rows": null,
       "height": null,
       "justify_content": null,
       "justify_items": null,
       "left": null,
       "margin": null,
       "max_height": null,
       "max_width": null,
       "min_height": null,
       "min_width": null,
       "object_fit": null,
       "object_position": null,
       "order": null,
       "overflow": null,
       "overflow_x": null,
       "overflow_y": null,
       "padding": null,
       "right": null,
       "top": null,
       "visibility": null,
       "width": null
      }
     },
     "3779fbbb7c404fe0bca42c8ec0231850": {
      "model_module": "@jupyter-widgets/controls",
      "model_module_version": "1.5.0",
      "model_name": "DescriptionStyleModel",
      "state": {
       "_model_module": "@jupyter-widgets/controls",
       "_model_module_version": "1.5.0",
       "_model_name": "DescriptionStyleModel",
       "_view_count": null,
       "_view_module": "@jupyter-widgets/base",
       "_view_module_version": "1.2.0",
       "_view_name": "StyleView",
       "description_width": ""
      }
     },
     "3a5bcc4c2e21484d9560f0c758f56a5f": {
      "model_module": "@jupyter-widgets/controls",
      "model_module_version": "1.5.0",
      "model_name": "DescriptionStyleModel",
      "state": {
       "_model_module": "@jupyter-widgets/controls",
       "_model_module_version": "1.5.0",
       "_model_name": "DescriptionStyleModel",
       "_view_count": null,
       "_view_module": "@jupyter-widgets/base",
       "_view_module_version": "1.2.0",
       "_view_name": "StyleView",
       "description_width": ""
      }
     },
     "3bd7f761cb214c02a9559f4255435cb0": {
      "model_module": "@jupyter-widgets/controls",
      "model_module_version": "1.5.0",
      "model_name": "FloatProgressModel",
      "state": {
       "_dom_classes": [],
       "_model_module": "@jupyter-widgets/controls",
       "_model_module_version": "1.5.0",
       "_model_name": "FloatProgressModel",
       "_view_count": null,
       "_view_module": "@jupyter-widgets/controls",
       "_view_module_version": "1.5.0",
       "_view_name": "ProgressView",
       "bar_style": "success",
       "description": "",
       "description_tooltip": null,
       "layout": "IPY_MODEL_8c1fec122b5541aeb7dae442c9df660d",
       "max": 112.0,
       "min": 0.0,
       "orientation": "horizontal",
       "style": "IPY_MODEL_00ede9b138494ee1a53e7c0fd103b022",
       "value": 112.0
      }
     },
     "3c6e67e2d49943e4904501d6d711b52d": {
      "model_module": "@jupyter-widgets/base",
      "model_module_version": "1.2.0",
      "model_name": "LayoutModel",
      "state": {
       "_model_module": "@jupyter-widgets/base",
       "_model_module_version": "1.2.0",
       "_model_name": "LayoutModel",
       "_view_count": null,
       "_view_module": "@jupyter-widgets/base",
       "_view_module_version": "1.2.0",
       "_view_name": "LayoutView",
       "align_content": null,
       "align_items": null,
       "align_self": null,
       "border": null,
       "bottom": null,
       "display": null,
       "flex": null,
       "flex_flow": null,
       "grid_area": null,
       "grid_auto_columns": null,
       "grid_auto_flow": null,
       "grid_auto_rows": null,
       "grid_column": null,
       "grid_gap": null,
       "grid_row": null,
       "grid_template_areas": null,
       "grid_template_columns": null,
       "grid_template_rows": null,
       "height": null,
       "justify_content": null,
       "justify_items": null,
       "left": null,
       "margin": null,
       "max_height": null,
       "max_width": null,
       "min_height": null,
       "min_width": null,
       "object_fit": null,
       "object_position": null,
       "order": null,
       "overflow": null,
       "overflow_x": null,
       "overflow_y": null,
       "padding": null,
       "right": null,
       "top": null,
       "visibility": null,
       "width": null
      }
     },
     "4293f150810240579befa86e712d6f0c": {
      "model_module": "@jupyter-widgets/controls",
      "model_module_version": "1.5.0",
      "model_name": "HTMLModel",
      "state": {
       "_dom_classes": [],
       "_model_module": "@jupyter-widgets/controls",
       "_model_module_version": "1.5.0",
       "_model_name": "HTMLModel",
       "_view_count": null,
       "_view_module": "@jupyter-widgets/controls",
       "_view_module_version": "1.5.0",
       "_view_name": "HTMLView",
       "description": "",
       "description_tooltip": null,
       "layout": "IPY_MODEL_bed2345972e04e77a18b9ba97f345e35",
       "placeholder": "​",
       "style": "IPY_MODEL_6cdccf6dde9541b4bf4818352d575326",
       "value": "Downloading (…)okenizer_config.json: 100%"
      }
     },
     "47ca7b97424542409c30a0a7b7d9fb44": {
      "model_module": "@jupyter-widgets/controls",
      "model_module_version": "1.5.0",
      "model_name": "DescriptionStyleModel",
      "state": {
       "_model_module": "@jupyter-widgets/controls",
       "_model_module_version": "1.5.0",
       "_model_name": "DescriptionStyleModel",
       "_view_count": null,
       "_view_module": "@jupyter-widgets/base",
       "_view_module_version": "1.2.0",
       "_view_name": "StyleView",
       "description_width": ""
      }
     },
     "4d14c7e2229744bea8d06a8b0b1b937e": {
      "model_module": "@jupyter-widgets/controls",
      "model_module_version": "1.5.0",
      "model_name": "DescriptionStyleModel",
      "state": {
       "_model_module": "@jupyter-widgets/controls",
       "_model_module_version": "1.5.0",
       "_model_name": "DescriptionStyleModel",
       "_view_count": null,
       "_view_module": "@jupyter-widgets/base",
       "_view_module_version": "1.2.0",
       "_view_name": "StyleView",
       "description_width": ""
      }
     },
     "4e27cbde8e4e481696000d08bb3b7daf": {
      "model_module": "@jupyter-widgets/controls",
      "model_module_version": "1.5.0",
      "model_name": "HBoxModel",
      "state": {
       "_dom_classes": [],
       "_model_module": "@jupyter-widgets/controls",
       "_model_module_version": "1.5.0",
       "_model_name": "HBoxModel",
       "_view_count": null,
       "_view_module": "@jupyter-widgets/controls",
       "_view_module_version": "1.5.0",
       "_view_name": "HBoxView",
       "box_style": "",
       "children": [
        "IPY_MODEL_b5fce6ad2de34debb1c9b257959e5f66",
        "IPY_MODEL_50a76cad64264536bf2788ede1ab3520",
        "IPY_MODEL_925fbab290e348a68128771953b19e1a"
       ],
       "layout": "IPY_MODEL_23aadb645ac04d5eb1a45f37443f54f7"
      }
     },
     "50a76cad64264536bf2788ede1ab3520": {
      "model_module": "@jupyter-widgets/controls",
      "model_module_version": "1.5.0",
      "model_name": "FloatProgressModel",
      "state": {
       "_dom_classes": [],
       "_model_module": "@jupyter-widgets/controls",
       "_model_module_version": "1.5.0",
       "_model_name": "FloatProgressModel",
       "_view_count": null,
       "_view_module": "@jupyter-widgets/controls",
       "_view_module_version": "1.5.0",
       "_view_name": "ProgressView",
       "bar_style": "success",
       "description": "",
       "description_tooltip": null,
       "layout": "IPY_MODEL_a6c4c4672b2b454690e9a6ba249eeb56",
       "max": 231508.0,
       "min": 0.0,
       "orientation": "horizontal",
       "style": "IPY_MODEL_952711a322c4446185894824a5a14e96",
       "value": 231508.0
      }
     },
     "54d09255bfad4e3b948f50710097f3fe": {
      "model_module": "@jupyter-widgets/controls",
      "model_module_version": "1.5.0",
      "model_name": "ProgressStyleModel",
      "state": {
       "_model_module": "@jupyter-widgets/controls",
       "_model_module_version": "1.5.0",
       "_model_name": "ProgressStyleModel",
       "_view_count": null,
       "_view_module": "@jupyter-widgets/base",
       "_view_module_version": "1.2.0",
       "_view_name": "StyleView",
       "bar_color": null,
       "description_width": ""
      }
     },
     "572d805b5c8743c19cd64cdd5aab6296": {
      "model_module": "@jupyter-widgets/base",
      "model_module_version": "1.2.0",
      "model_name": "LayoutModel",
      "state": {
       "_model_module": "@jupyter-widgets/base",
       "_model_module_version": "1.2.0",
       "_model_name": "LayoutModel",
       "_view_count": null,
       "_view_module": "@jupyter-widgets/base",
       "_view_module_version": "1.2.0",
       "_view_name": "LayoutView",
       "align_content": null,
       "align_items": null,
       "align_self": null,
       "border": null,
       "bottom": null,
       "display": null,
       "flex": null,
       "flex_flow": null,
       "grid_area": null,
       "grid_auto_columns": null,
       "grid_auto_flow": null,
       "grid_auto_rows": null,
       "grid_column": null,
       "grid_gap": null,
       "grid_row": null,
       "grid_template_areas": null,
       "grid_template_columns": null,
       "grid_template_rows": null,
       "height": null,
       "justify_content": null,
       "justify_items": null,
       "left": null,
       "margin": null,
       "max_height": null,
       "max_width": null,
       "min_height": null,
       "min_width": null,
       "object_fit": null,
       "object_position": null,
       "order": null,
       "overflow": null,
       "overflow_x": null,
       "overflow_y": null,
       "padding": null,
       "right": null,
       "top": null,
       "visibility": null,
       "width": null
      }
     },
     "58194826f9274202ae14febea280bf7e": {
      "model_module": "@jupyter-widgets/controls",
      "model_module_version": "1.5.0",
      "model_name": "HTMLModel",
      "state": {
       "_dom_classes": [],
       "_model_module": "@jupyter-widgets/controls",
       "_model_module_version": "1.5.0",
       "_model_name": "HTMLModel",
       "_view_count": null,
       "_view_module": "@jupyter-widgets/controls",
       "_view_module_version": "1.5.0",
       "_view_name": "HTMLView",
       "description": "",
       "description_tooltip": null,
       "layout": "IPY_MODEL_77571ec0b9174d268f2bc8fee697e367",
       "placeholder": "​",
       "style": "IPY_MODEL_60d1263d0ef6429f89eb6ff683751a68",
       "value": " 466k/466k [00:00&lt;00:00, 1.74MB/s]"
      }
     },
     "5913a5ac68e3469baad93f9d1d1bff56": {
      "model_module": "@jupyter-widgets/base",
      "model_module_version": "1.2.0",
      "model_name": "LayoutModel",
      "state": {
       "_model_module": "@jupyter-widgets/base",
       "_model_module_version": "1.2.0",
       "_model_name": "LayoutModel",
       "_view_count": null,
       "_view_module": "@jupyter-widgets/base",
       "_view_module_version": "1.2.0",
       "_view_name": "LayoutView",
       "align_content": null,
       "align_items": null,
       "align_self": null,
       "border": null,
       "bottom": null,
       "display": null,
       "flex": null,
       "flex_flow": null,
       "grid_area": null,
       "grid_auto_columns": null,
       "grid_auto_flow": null,
       "grid_auto_rows": null,
       "grid_column": null,
       "grid_gap": null,
       "grid_row": null,
       "grid_template_areas": null,
       "grid_template_columns": null,
       "grid_template_rows": null,
       "height": null,
       "justify_content": null,
       "justify_items": null,
       "left": null,
       "margin": null,
       "max_height": null,
       "max_width": null,
       "min_height": null,
       "min_width": null,
       "object_fit": null,
       "object_position": null,
       "order": null,
       "overflow": null,
       "overflow_x": null,
       "overflow_y": null,
       "padding": null,
       "right": null,
       "top": null,
       "visibility": null,
       "width": null
      }
     },
     "5b8d93fdafce4aacabd6a774f3e18f99": {
      "model_module": "@jupyter-widgets/controls",
      "model_module_version": "1.5.0",
      "model_name": "HTMLModel",
      "state": {
       "_dom_classes": [],
       "_model_module": "@jupyter-widgets/controls",
       "_model_module_version": "1.5.0",
       "_model_name": "HTMLModel",
       "_view_count": null,
       "_view_module": "@jupyter-widgets/controls",
       "_view_module_version": "1.5.0",
       "_view_name": "HTMLView",
       "description": "",
       "description_tooltip": null,
       "layout": "IPY_MODEL_88915d95ae6a4047905c79216fe6dca0",
       "placeholder": "​",
       "style": "IPY_MODEL_9ed0bf1005a8424fa2871e9137ee5ceb",
       "value": " 625/625 [00:00&lt;00:00, 28.5kB/s]"
      }
     },
     "5f594d165dd84848a4c6deca20263047": {
      "model_module": "@jupyter-widgets/base",
      "model_module_version": "1.2.0",
      "model_name": "LayoutModel",
      "state": {
       "_model_module": "@jupyter-widgets/base",
       "_model_module_version": "1.2.0",
       "_model_name": "LayoutModel",
       "_view_count": null,
       "_view_module": "@jupyter-widgets/base",
       "_view_module_version": "1.2.0",
       "_view_name": "LayoutView",
       "align_content": null,
       "align_items": null,
       "align_self": null,
       "border": null,
       "bottom": null,
       "display": null,
       "flex": null,
       "flex_flow": null,
       "grid_area": null,
       "grid_auto_columns": null,
       "grid_auto_flow": null,
       "grid_auto_rows": null,
       "grid_column": null,
       "grid_gap": null,
       "grid_row": null,
       "grid_template_areas": null,
       "grid_template_columns": null,
       "grid_template_rows": null,
       "height": null,
       "justify_content": null,
       "justify_items": null,
       "left": null,
       "margin": null,
       "max_height": null,
       "max_width": null,
       "min_height": null,
       "min_width": null,
       "object_fit": null,
       "object_position": null,
       "order": null,
       "overflow": null,
       "overflow_x": null,
       "overflow_y": null,
       "padding": null,
       "right": null,
       "top": null,
       "visibility": null,
       "width": null
      }
     },
     "60d1263d0ef6429f89eb6ff683751a68": {
      "model_module": "@jupyter-widgets/controls",
      "model_module_version": "1.5.0",
      "model_name": "DescriptionStyleModel",
      "state": {
       "_model_module": "@jupyter-widgets/controls",
       "_model_module_version": "1.5.0",
       "_model_name": "DescriptionStyleModel",
       "_view_count": null,
       "_view_module": "@jupyter-widgets/base",
       "_view_module_version": "1.2.0",
       "_view_name": "StyleView",
       "description_width": ""
      }
     },
     "6195c6bdf149443c87018f8205bfa344": {
      "model_module": "@jupyter-widgets/base",
      "model_module_version": "1.2.0",
      "model_name": "LayoutModel",
      "state": {
       "_model_module": "@jupyter-widgets/base",
       "_model_module_version": "1.2.0",
       "_model_name": "LayoutModel",
       "_view_count": null,
       "_view_module": "@jupyter-widgets/base",
       "_view_module_version": "1.2.0",
       "_view_name": "LayoutView",
       "align_content": null,
       "align_items": null,
       "align_self": null,
       "border": null,
       "bottom": null,
       "display": null,
       "flex": null,
       "flex_flow": null,
       "grid_area": null,
       "grid_auto_columns": null,
       "grid_auto_flow": null,
       "grid_auto_rows": null,
       "grid_column": null,
       "grid_gap": null,
       "grid_row": null,
       "grid_template_areas": null,
       "grid_template_columns": null,
       "grid_template_rows": null,
       "height": null,
       "justify_content": null,
       "justify_items": null,
       "left": null,
       "margin": null,
       "max_height": null,
       "max_width": null,
       "min_height": null,
       "min_width": null,
       "object_fit": null,
       "object_position": null,
       "order": null,
       "overflow": null,
       "overflow_x": null,
       "overflow_y": null,
       "padding": null,
       "right": null,
       "top": null,
       "visibility": null,
       "width": null
      }
     },
     "622578fadb4a45f4aeea4acb3a1c84ef": {
      "model_module": "@jupyter-widgets/base",
      "model_module_version": "1.2.0",
      "model_name": "LayoutModel",
      "state": {
       "_model_module": "@jupyter-widgets/base",
       "_model_module_version": "1.2.0",
       "_model_name": "LayoutModel",
       "_view_count": null,
       "_view_module": "@jupyter-widgets/base",
       "_view_module_version": "1.2.0",
       "_view_name": "LayoutView",
       "align_content": null,
       "align_items": null,
       "align_self": null,
       "border": null,
       "bottom": null,
       "display": null,
       "flex": null,
       "flex_flow": null,
       "grid_area": null,
       "grid_auto_columns": null,
       "grid_auto_flow": null,
       "grid_auto_rows": null,
       "grid_column": null,
       "grid_gap": null,
       "grid_row": null,
       "grid_template_areas": null,
       "grid_template_columns": null,
       "grid_template_rows": null,
       "height": null,
       "justify_content": null,
       "justify_items": null,
       "left": null,
       "margin": null,
       "max_height": null,
       "max_width": null,
       "min_height": null,
       "min_width": null,
       "object_fit": null,
       "object_position": null,
       "order": null,
       "overflow": null,
       "overflow_x": null,
       "overflow_y": null,
       "padding": null,
       "right": null,
       "top": null,
       "visibility": null,
       "width": null
      }
     },
     "64cc518d23b54149a734305b6290b39a": {
      "model_module": "@jupyter-widgets/controls",
      "model_module_version": "1.5.0",
      "model_name": "HTMLModel",
      "state": {
       "_dom_classes": [],
       "_model_module": "@jupyter-widgets/controls",
       "_model_module_version": "1.5.0",
       "_model_name": "HTMLModel",
       "_view_count": null,
       "_view_module": "@jupyter-widgets/controls",
       "_view_module_version": "1.5.0",
       "_view_name": "HTMLView",
       "description": "",
       "description_tooltip": null,
       "layout": "IPY_MODEL_cf5ae450f76e409e895d2fb202a48cea",
       "placeholder": "​",
       "style": "IPY_MODEL_0c1325ac7afc41d9a2601ca0051ded5e",
       "value": "Downloading (…)cial_tokens_map.json: 100%"
      }
     },
     "6763c463a33746588e675e1d94f4bfbe": {
      "model_module": "@jupyter-widgets/controls",
      "model_module_version": "1.5.0",
      "model_name": "FloatProgressModel",
      "state": {
       "_dom_classes": [],
       "_model_module": "@jupyter-widgets/controls",
       "_model_module_version": "1.5.0",
       "_model_name": "FloatProgressModel",
       "_view_count": null,
       "_view_module": "@jupyter-widgets/controls",
       "_view_module_version": "1.5.0",
       "_view_name": "ProgressView",
       "bar_style": "success",
       "description": "",
       "description_tooltip": null,
       "layout": "IPY_MODEL_a3ec8390c61046c7971d8e9fd1a10d52",
       "max": 26970.0,
       "min": 0.0,
       "orientation": "horizontal",
       "style": "IPY_MODEL_e45278ee10724aae94cbfc961bf39ebe",
       "value": 26970.0
      }
     },
     "69d87625b7be4552bfd023c7d899daf4": {
      "model_module": "@jupyter-widgets/base",
      "model_module_version": "1.2.0",
      "model_name": "LayoutModel",
      "state": {
       "_model_module": "@jupyter-widgets/base",
       "_model_module_version": "1.2.0",
       "_model_name": "LayoutModel",
       "_view_count": null,
       "_view_module": "@jupyter-widgets/base",
       "_view_module_version": "1.2.0",
       "_view_name": "LayoutView",
       "align_content": null,
       "align_items": null,
       "align_self": null,
       "border": null,
       "bottom": null,
       "display": null,
       "flex": null,
       "flex_flow": null,
       "grid_area": null,
       "grid_auto_columns": null,
       "grid_auto_flow": null,
       "grid_auto_rows": null,
       "grid_column": null,
       "grid_gap": null,
       "grid_row": null,
       "grid_template_areas": null,
       "grid_template_columns": null,
       "grid_template_rows": null,
       "height": null,
       "justify_content": null,
       "justify_items": null,
       "left": null,
       "margin": null,
       "max_height": null,
       "max_width": null,
       "min_height": null,
       "min_width": null,
       "object_fit": null,
       "object_position": null,
       "order": null,
       "overflow": null,
       "overflow_x": null,
       "overflow_y": null,
       "padding": null,
       "right": null,
       "top": null,
       "visibility": null,
       "width": null
      }
     },
     "6b5c762b6ad941088e67bbac7b50dc5b": {
      "model_module": "@jupyter-widgets/controls",
      "model_module_version": "1.5.0",
      "model_name": "ProgressStyleModel",
      "state": {
       "_model_module": "@jupyter-widgets/controls",
       "_model_module_version": "1.5.0",
       "_model_name": "ProgressStyleModel",
       "_view_count": null,
       "_view_module": "@jupyter-widgets/base",
       "_view_module_version": "1.2.0",
       "_view_name": "StyleView",
       "bar_color": null,
       "description_width": ""
      }
     },
     "6c39e6a9ae574f00ad8053a05936accc": {
      "model_module": "@jupyter-widgets/controls",
      "model_module_version": "1.5.0",
      "model_name": "ProgressStyleModel",
      "state": {
       "_model_module": "@jupyter-widgets/controls",
       "_model_module_version": "1.5.0",
       "_model_name": "ProgressStyleModel",
       "_view_count": null,
       "_view_module": "@jupyter-widgets/base",
       "_view_module_version": "1.2.0",
       "_view_name": "StyleView",
       "bar_color": null,
       "description_width": ""
      }
     },
     "6cdccf6dde9541b4bf4818352d575326": {
      "model_module": "@jupyter-widgets/controls",
      "model_module_version": "1.5.0",
      "model_name": "DescriptionStyleModel",
      "state": {
       "_model_module": "@jupyter-widgets/controls",
       "_model_module_version": "1.5.0",
       "_model_name": "DescriptionStyleModel",
       "_view_count": null,
       "_view_module": "@jupyter-widgets/base",
       "_view_module_version": "1.2.0",
       "_view_name": "StyleView",
       "description_width": ""
      }
     },
     "752b152967f74a42ae9369fa8e30c7df": {
      "model_module": "@jupyter-widgets/base",
      "model_module_version": "1.2.0",
      "model_name": "LayoutModel",
      "state": {
       "_model_module": "@jupyter-widgets/base",
       "_model_module_version": "1.2.0",
       "_model_name": "LayoutModel",
       "_view_count": null,
       "_view_module": "@jupyter-widgets/base",
       "_view_module_version": "1.2.0",
       "_view_name": "LayoutView",
       "align_content": null,
       "align_items": null,
       "align_self": null,
       "border": null,
       "bottom": null,
       "display": null,
       "flex": null,
       "flex_flow": null,
       "grid_area": null,
       "grid_auto_columns": null,
       "grid_auto_flow": null,
       "grid_auto_rows": null,
       "grid_column": null,
       "grid_gap": null,
       "grid_row": null,
       "grid_template_areas": null,
       "grid_template_columns": null,
       "grid_template_rows": null,
       "height": null,
       "justify_content": null,
       "justify_items": null,
       "left": null,
       "margin": null,
       "max_height": null,
       "max_width": null,
       "min_height": null,
       "min_width": null,
       "object_fit": null,
       "object_position": null,
       "order": null,
       "overflow": null,
       "overflow_x": null,
       "overflow_y": null,
       "padding": null,
       "right": null,
       "top": null,
       "visibility": null,
       "width": null
      }
     },
     "77571ec0b9174d268f2bc8fee697e367": {
      "model_module": "@jupyter-widgets/base",
      "model_module_version": "1.2.0",
      "model_name": "LayoutModel",
      "state": {
       "_model_module": "@jupyter-widgets/base",
       "_model_module_version": "1.2.0",
       "_model_name": "LayoutModel",
       "_view_count": null,
       "_view_module": "@jupyter-widgets/base",
       "_view_module_version": "1.2.0",
       "_view_name": "LayoutView",
       "align_content": null,
       "align_items": null,
       "align_self": null,
       "border": null,
       "bottom": null,
       "display": null,
       "flex": null,
       "flex_flow": null,
       "grid_area": null,
       "grid_auto_columns": null,
       "grid_auto_flow": null,
       "grid_auto_rows": null,
       "grid_column": null,
       "grid_gap": null,
       "grid_row": null,
       "grid_template_areas": null,
       "grid_template_columns": null,
       "grid_template_rows": null,
       "height": null,
       "justify_content": null,
       "justify_items": null,
       "left": null,
       "margin": null,
       "max_height": null,
       "max_width": null,
       "min_height": null,
       "min_width": null,
       "object_fit": null,
       "object_position": null,
       "order": null,
       "overflow": null,
       "overflow_x": null,
       "overflow_y": null,
       "padding": null,
       "right": null,
       "top": null,
       "visibility": null,
       "width": null
      }
     },
     "81d95ec765cb447b8f0cd77287b690e3": {
      "model_module": "@jupyter-widgets/controls",
      "model_module_version": "1.5.0",
      "model_name": "HTMLModel",
      "state": {
       "_dom_classes": [],
       "_model_module": "@jupyter-widgets/controls",
       "_model_module_version": "1.5.0",
       "_model_name": "HTMLModel",
       "_view_count": null,
       "_view_module": "@jupyter-widgets/controls",
       "_view_module_version": "1.5.0",
       "_view_name": "HTMLView",
       "description": "",
       "description_tooltip": null,
       "layout": "IPY_MODEL_69d87625b7be4552bfd023c7d899daf4",
       "placeholder": "​",
       "style": "IPY_MODEL_4d14c7e2229744bea8d06a8b0b1b937e",
       "value": "Downloading (…)lve/main/config.json: 100%"
      }
     },
     "82714d5419ed491ba5ebfc857e275cc0": {
      "model_module": "@jupyter-widgets/base",
      "model_module_version": "1.2.0",
      "model_name": "LayoutModel",
      "state": {
       "_model_module": "@jupyter-widgets/base",
       "_model_module_version": "1.2.0",
       "_model_name": "LayoutModel",
       "_view_count": null,
       "_view_module": "@jupyter-widgets/base",
       "_view_module_version": "1.2.0",
       "_view_name": "LayoutView",
       "align_content": null,
       "align_items": null,
       "align_self": null,
       "border": null,
       "bottom": null,
       "display": null,
       "flex": null,
       "flex_flow": null,
       "grid_area": null,
       "grid_auto_columns": null,
       "grid_auto_flow": null,
       "grid_auto_rows": null,
       "grid_column": null,
       "grid_gap": null,
       "grid_row": null,
       "grid_template_areas": null,
       "grid_template_columns": null,
       "grid_template_rows": null,
       "height": null,
       "justify_content": null,
       "justify_items": null,
       "left": null,
       "margin": null,
       "max_height": null,
       "max_width": null,
       "min_height": null,
       "min_width": null,
       "object_fit": null,
       "object_position": null,
       "order": null,
       "overflow": null,
       "overflow_x": null,
       "overflow_y": null,
       "padding": null,
       "right": null,
       "top": null,
       "visibility": null,
       "width": null
      }
     },
     "885626461490441f9738f87f53d0453e": {
      "model_module": "@jupyter-widgets/controls",
      "model_module_version": "1.5.0",
      "model_name": "HTMLModel",
      "state": {
       "_dom_classes": [],
       "_model_module": "@jupyter-widgets/controls",
       "_model_module_version": "1.5.0",
       "_model_name": "HTMLModel",
       "_view_count": null,
       "_view_module": "@jupyter-widgets/controls",
       "_view_module_version": "1.5.0",
       "_view_name": "HTMLView",
       "description": "",
       "description_tooltip": null,
       "layout": "IPY_MODEL_3c6e67e2d49943e4904501d6d711b52d",
       "placeholder": "​",
       "style": "IPY_MODEL_d2958c4aeab4403b9936cbe0351c553e",
       "value": " 2.00/2.00 [00:00&lt;00:00, 53.7B/s]"
      }
     },
     "88915d95ae6a4047905c79216fe6dca0": {
      "model_module": "@jupyter-widgets/base",
      "model_module_version": "1.2.0",
      "model_name": "LayoutModel",
      "state": {
       "_model_module": "@jupyter-widgets/base",
       "_model_module_version": "1.2.0",
       "_model_name": "LayoutModel",
       "_view_count": null,
       "_view_module": "@jupyter-widgets/base",
       "_view_module_version": "1.2.0",
       "_view_name": "LayoutView",
       "align_content": null,
       "align_items": null,
       "align_self": null,
       "border": null,
       "bottom": null,
       "display": null,
       "flex": null,
       "flex_flow": null,
       "grid_area": null,
       "grid_auto_columns": null,
       "grid_auto_flow": null,
       "grid_auto_rows": null,
       "grid_column": null,
       "grid_gap": null,
       "grid_row": null,
       "grid_template_areas": null,
       "grid_template_columns": null,
       "grid_template_rows": null,
       "height": null,
       "justify_content": null,
       "justify_items": null,
       "left": null,
       "margin": null,
       "max_height": null,
       "max_width": null,
       "min_height": null,
       "min_width": null,
       "object_fit": null,
       "object_position": null,
       "order": null,
       "overflow": null,
       "overflow_x": null,
       "overflow_y": null,
       "padding": null,
       "right": null,
       "top": null,
       "visibility": null,
       "width": null
      }
     },
     "8c1fec122b5541aeb7dae442c9df660d": {
      "model_module": "@jupyter-widgets/base",
      "model_module_version": "1.2.0",
      "model_name": "LayoutModel",
      "state": {
       "_model_module": "@jupyter-widgets/base",
       "_model_module_version": "1.2.0",
       "_model_name": "LayoutModel",
       "_view_count": null,
       "_view_module": "@jupyter-widgets/base",
       "_view_module_version": "1.2.0",
       "_view_name": "LayoutView",
       "align_content": null,
       "align_items": null,
       "align_self": null,
       "border": null,
       "bottom": null,
       "display": null,
       "flex": null,
       "flex_flow": null,
       "grid_area": null,
       "grid_auto_columns": null,
       "grid_auto_flow": null,
       "grid_auto_rows": null,
       "grid_column": null,
       "grid_gap": null,
       "grid_row": null,
       "grid_template_areas": null,
       "grid_template_columns": null,
       "grid_template_rows": null,
       "height": null,
       "justify_content": null,
       "justify_items": null,
       "left": null,
       "margin": null,
       "max_height": null,
       "max_width": null,
       "min_height": null,
       "min_width": null,
       "object_fit": null,
       "object_position": null,
       "order": null,
       "overflow": null,
       "overflow_x": null,
       "overflow_y": null,
       "padding": null,
       "right": null,
       "top": null,
       "visibility": null,
       "width": null
      }
     },
     "8ce20db1c116446db4ff70d1c88fa7cd": {
      "model_module": "@jupyter-widgets/base",
      "model_module_version": "1.2.0",
      "model_name": "LayoutModel",
      "state": {
       "_model_module": "@jupyter-widgets/base",
       "_model_module_version": "1.2.0",
       "_model_name": "LayoutModel",
       "_view_count": null,
       "_view_module": "@jupyter-widgets/base",
       "_view_module_version": "1.2.0",
       "_view_name": "LayoutView",
       "align_content": null,
       "align_items": null,
       "align_self": null,
       "border": null,
       "bottom": null,
       "display": null,
       "flex": null,
       "flex_flow": null,
       "grid_area": null,
       "grid_auto_columns": null,
       "grid_auto_flow": null,
       "grid_auto_rows": null,
       "grid_column": null,
       "grid_gap": null,
       "grid_row": null,
       "grid_template_areas": null,
       "grid_template_columns": null,
       "grid_template_rows": null,
       "height": null,
       "justify_content": null,
       "justify_items": null,
       "left": null,
       "margin": null,
       "max_height": null,
       "max_width": null,
       "min_height": null,
       "min_width": null,
       "object_fit": null,
       "object_position": null,
       "order": null,
       "overflow": null,
       "overflow_x": null,
       "overflow_y": null,
       "padding": null,
       "right": null,
       "top": null,
       "visibility": null,
       "width": null
      }
     },
     "925fbab290e348a68128771953b19e1a": {
      "model_module": "@jupyter-widgets/controls",
      "model_module_version": "1.5.0",
      "model_name": "HTMLModel",
      "state": {
       "_dom_classes": [],
       "_model_module": "@jupyter-widgets/controls",
       "_model_module_version": "1.5.0",
       "_model_name": "HTMLModel",
       "_view_count": null,
       "_view_module": "@jupyter-widgets/controls",
       "_view_module_version": "1.5.0",
       "_view_name": "HTMLView",
       "description": "",
       "description_tooltip": null,
       "layout": "IPY_MODEL_5913a5ac68e3469baad93f9d1d1bff56",
       "placeholder": "​",
       "style": "IPY_MODEL_2da24b446afe4ba0aa0f66313f9f782e",
       "value": " 232k/232k [00:00&lt;00:00, 1.13MB/s]"
      }
     },
     "952711a322c4446185894824a5a14e96": {
      "model_module": "@jupyter-widgets/controls",
      "model_module_version": "1.5.0",
      "model_name": "ProgressStyleModel",
      "state": {
       "_model_module": "@jupyter-widgets/controls",
       "_model_module_version": "1.5.0",
       "_model_name": "ProgressStyleModel",
       "_view_count": null,
       "_view_module": "@jupyter-widgets/base",
       "_view_module_version": "1.2.0",
       "_view_name": "StyleView",
       "bar_color": null,
       "description_width": ""
      }
     },
     "9987796c4e0143f9881417584eb319e8": {
      "model_module": "@jupyter-widgets/controls",
      "model_module_version": "1.5.0",
      "model_name": "DescriptionStyleModel",
      "state": {
       "_model_module": "@jupyter-widgets/controls",
       "_model_module_version": "1.5.0",
       "_model_name": "DescriptionStyleModel",
       "_view_count": null,
       "_view_module": "@jupyter-widgets/base",
       "_view_module_version": "1.2.0",
       "_view_name": "StyleView",
       "description_width": ""
      }
     },
     "9c7c42c00e3d44679b8dff20434f1ede": {
      "model_module": "@jupyter-widgets/controls",
      "model_module_version": "1.5.0",
      "model_name": "DescriptionStyleModel",
      "state": {
       "_model_module": "@jupyter-widgets/controls",
       "_model_module_version": "1.5.0",
       "_model_name": "DescriptionStyleModel",
       "_view_count": null,
       "_view_module": "@jupyter-widgets/base",
       "_view_module_version": "1.2.0",
       "_view_name": "StyleView",
       "description_width": ""
      }
     },
     "9ed0bf1005a8424fa2871e9137ee5ceb": {
      "model_module": "@jupyter-widgets/controls",
      "model_module_version": "1.5.0",
      "model_name": "DescriptionStyleModel",
      "state": {
       "_model_module": "@jupyter-widgets/controls",
       "_model_module_version": "1.5.0",
       "_model_name": "DescriptionStyleModel",
       "_view_count": null,
       "_view_module": "@jupyter-widgets/base",
       "_view_module_version": "1.2.0",
       "_view_name": "StyleView",
       "description_width": ""
      }
     },
     "a3ec8390c61046c7971d8e9fd1a10d52": {
      "model_module": "@jupyter-widgets/base",
      "model_module_version": "1.2.0",
      "model_name": "LayoutModel",
      "state": {
       "_model_module": "@jupyter-widgets/base",
       "_model_module_version": "1.2.0",
       "_model_name": "LayoutModel",
       "_view_count": null,
       "_view_module": "@jupyter-widgets/base",
       "_view_module_version": "1.2.0",
       "_view_name": "LayoutView",
       "align_content": null,
       "align_items": null,
       "align_self": null,
       "border": null,
       "bottom": null,
       "display": null,
       "flex": null,
       "flex_flow": null,
       "grid_area": null,
       "grid_auto_columns": null,
       "grid_auto_flow": null,
       "grid_auto_rows": null,
       "grid_column": null,
       "grid_gap": null,
       "grid_row": null,
       "grid_template_areas": null,
       "grid_template_columns": null,
       "grid_template_rows": null,
       "height": null,
       "justify_content": null,
       "justify_items": null,
       "left": null,
       "margin": null,
       "max_height": null,
       "max_width": null,
       "min_height": null,
       "min_width": null,
       "object_fit": null,
       "object_position": null,
       "order": null,
       "overflow": null,
       "overflow_x": null,
       "overflow_y": null,
       "padding": null,
       "right": null,
       "top": null,
       "visibility": null,
       "width": null
      }
     },
     "a5c624dd5d4d4fe0b5f95cdf4fd96ae8": {
      "model_module": "@jupyter-widgets/controls",
      "model_module_version": "1.5.0",
      "model_name": "DescriptionStyleModel",
      "state": {
       "_model_module": "@jupyter-widgets/controls",
       "_model_module_version": "1.5.0",
       "_model_name": "DescriptionStyleModel",
       "_view_count": null,
       "_view_module": "@jupyter-widgets/base",
       "_view_module_version": "1.2.0",
       "_view_name": "StyleView",
       "description_width": ""
      }
     },
     "a6c4c4672b2b454690e9a6ba249eeb56": {
      "model_module": "@jupyter-widgets/base",
      "model_module_version": "1.2.0",
      "model_name": "LayoutModel",
      "state": {
       "_model_module": "@jupyter-widgets/base",
       "_model_module_version": "1.2.0",
       "_model_name": "LayoutModel",
       "_view_count": null,
       "_view_module": "@jupyter-widgets/base",
       "_view_module_version": "1.2.0",
       "_view_name": "LayoutView",
       "align_content": null,
       "align_items": null,
       "align_self": null,
       "border": null,
       "bottom": null,
       "display": null,
       "flex": null,
       "flex_flow": null,
       "grid_area": null,
       "grid_auto_columns": null,
       "grid_auto_flow": null,
       "grid_auto_rows": null,
       "grid_column": null,
       "grid_gap": null,
       "grid_row": null,
       "grid_template_areas": null,
       "grid_template_columns": null,
       "grid_template_rows": null,
       "height": null,
       "justify_content": null,
       "justify_items": null,
       "left": null,
       "margin": null,
       "max_height": null,
       "max_width": null,
       "min_height": null,
       "min_width": null,
       "object_fit": null,
       "object_position": null,
       "order": null,
       "overflow": null,
       "overflow_x": null,
       "overflow_y": null,
       "padding": null,
       "right": null,
       "top": null,
       "visibility": null,
       "width": null
      }
     },
     "b59e07cc8431414e8ce51e3e4afd5e22": {
      "model_module": "@jupyter-widgets/controls",
      "model_module_version": "1.5.0",
      "model_name": "FloatProgressModel",
      "state": {
       "_dom_classes": [],
       "_model_module": "@jupyter-widgets/controls",
       "_model_module_version": "1.5.0",
       "_model_name": "FloatProgressModel",
       "_view_count": null,
       "_view_module": "@jupyter-widgets/controls",
       "_view_module_version": "1.5.0",
       "_view_name": "ProgressView",
       "bar_style": "success",
       "description": "",
       "description_tooltip": null,
       "layout": "IPY_MODEL_d2f3c06d6f65483ea1e338a1f43508a6",
       "max": 466081.0,
       "min": 0.0,
       "orientation": "horizontal",
       "style": "IPY_MODEL_6c39e6a9ae574f00ad8053a05936accc",
       "value": 466081.0
      }
     },
     "b5fce6ad2de34debb1c9b257959e5f66": {
      "model_module": "@jupyter-widgets/controls",
      "model_module_version": "1.5.0",
      "model_name": "HTMLModel",
      "state": {
       "_dom_classes": [],
       "_model_module": "@jupyter-widgets/controls",
       "_model_module_version": "1.5.0",
       "_model_name": "HTMLModel",
       "_view_count": null,
       "_view_module": "@jupyter-widgets/controls",
       "_view_module_version": "1.5.0",
       "_view_name": "HTMLView",
       "description": "",
       "description_tooltip": null,
       "layout": "IPY_MODEL_1c078f74eebd4d5eb34e714776774dac",
       "placeholder": "​",
       "style": "IPY_MODEL_3a5bcc4c2e21484d9560f0c758f56a5f",
       "value": "Downloading (…)solve/main/vocab.txt: 100%"
      }
     },
     "b66037a2f42b4ee1a639b8dea99e601e": {
      "model_module": "@jupyter-widgets/controls",
      "model_module_version": "1.5.0",
      "model_name": "HBoxModel",
      "state": {
       "_dom_classes": [],
       "_model_module": "@jupyter-widgets/controls",
       "_model_module_version": "1.5.0",
       "_model_name": "HBoxModel",
       "_view_count": null,
       "_view_module": "@jupyter-widgets/controls",
       "_view_module_version": "1.5.0",
       "_view_name": "HBoxView",
       "box_style": "",
       "children": [
        "IPY_MODEL_64cc518d23b54149a734305b6290b39a",
        "IPY_MODEL_3bd7f761cb214c02a9559f4255435cb0",
        "IPY_MODEL_1877287a6c97403d8f83b63b95a2c190"
       ],
       "layout": "IPY_MODEL_752b152967f74a42ae9369fa8e30c7df"
      }
     },
     "bc435ff14fbc4fb4a36a4ba9132ce7dc": {
      "model_module": "@jupyter-widgets/base",
      "model_module_version": "1.2.0",
      "model_name": "LayoutModel",
      "state": {
       "_model_module": "@jupyter-widgets/base",
       "_model_module_version": "1.2.0",
       "_model_name": "LayoutModel",
       "_view_count": null,
       "_view_module": "@jupyter-widgets/base",
       "_view_module_version": "1.2.0",
       "_view_name": "LayoutView",
       "align_content": null,
       "align_items": null,
       "align_self": null,
       "border": null,
       "bottom": null,
       "display": null,
       "flex": null,
       "flex_flow": null,
       "grid_area": null,
       "grid_auto_columns": null,
       "grid_auto_flow": null,
       "grid_auto_rows": null,
       "grid_column": null,
       "grid_gap": null,
       "grid_row": null,
       "grid_template_areas": null,
       "grid_template_columns": null,
       "grid_template_rows": null,
       "height": null,
       "justify_content": null,
       "justify_items": null,
       "left": null,
       "margin": null,
       "max_height": null,
       "max_width": null,
       "min_height": null,
       "min_width": null,
       "object_fit": null,
       "object_position": null,
       "order": null,
       "overflow": null,
       "overflow_x": null,
       "overflow_y": null,
       "padding": null,
       "right": null,
       "top": null,
       "visibility": null,
       "width": null
      }
     },
     "be1e3364bbf7445d9c6c74b44ea05d08": {
      "model_module": "@jupyter-widgets/base",
      "model_module_version": "1.2.0",
      "model_name": "LayoutModel",
      "state": {
       "_model_module": "@jupyter-widgets/base",
       "_model_module_version": "1.2.0",
       "_model_name": "LayoutModel",
       "_view_count": null,
       "_view_module": "@jupyter-widgets/base",
       "_view_module_version": "1.2.0",
       "_view_name": "LayoutView",
       "align_content": null,
       "align_items": null,
       "align_self": null,
       "border": null,
       "bottom": null,
       "display": null,
       "flex": null,
       "flex_flow": null,
       "grid_area": null,
       "grid_auto_columns": null,
       "grid_auto_flow": null,
       "grid_auto_rows": null,
       "grid_column": null,
       "grid_gap": null,
       "grid_row": null,
       "grid_template_areas": null,
       "grid_template_columns": null,
       "grid_template_rows": null,
       "height": null,
       "justify_content": null,
       "justify_items": null,
       "left": null,
       "margin": null,
       "max_height": null,
       "max_width": null,
       "min_height": null,
       "min_width": null,
       "object_fit": null,
       "object_position": null,
       "order": null,
       "overflow": null,
       "overflow_x": null,
       "overflow_y": null,
       "padding": null,
       "right": null,
       "top": null,
       "visibility": null,
       "width": null
      }
     },
     "bed2345972e04e77a18b9ba97f345e35": {
      "model_module": "@jupyter-widgets/base",
      "model_module_version": "1.2.0",
      "model_name": "LayoutModel",
      "state": {
       "_model_module": "@jupyter-widgets/base",
       "_model_module_version": "1.2.0",
       "_model_name": "LayoutModel",
       "_view_count": null,
       "_view_module": "@jupyter-widgets/base",
       "_view_module_version": "1.2.0",
       "_view_name": "LayoutView",
       "align_content": null,
       "align_items": null,
       "align_self": null,
       "border": null,
       "bottom": null,
       "display": null,
       "flex": null,
       "flex_flow": null,
       "grid_area": null,
       "grid_auto_columns": null,
       "grid_auto_flow": null,
       "grid_auto_rows": null,
       "grid_column": null,
       "grid_gap": null,
       "grid_row": null,
       "grid_template_areas": null,
       "grid_template_columns": null,
       "grid_template_rows": null,
       "height": null,
       "justify_content": null,
       "justify_items": null,
       "left": null,
       "margin": null,
       "max_height": null,
       "max_width": null,
       "min_height": null,
       "min_width": null,
       "object_fit": null,
       "object_position": null,
       "order": null,
       "overflow": null,
       "overflow_x": null,
       "overflow_y": null,
       "padding": null,
       "right": null,
       "top": null,
       "visibility": null,
       "width": null
      }
     },
     "bf0ff5131b1842e3a980d58b4d344d8b": {
      "model_module": "@jupyter-widgets/controls",
      "model_module_version": "1.5.0",
      "model_name": "HBoxModel",
      "state": {
       "_dom_classes": [],
       "_model_module": "@jupyter-widgets/controls",
       "_model_module_version": "1.5.0",
       "_model_name": "HBoxModel",
       "_view_count": null,
       "_view_module": "@jupyter-widgets/controls",
       "_view_module_version": "1.5.0",
       "_view_name": "HBoxView",
       "box_style": "",
       "children": [
        "IPY_MODEL_26cc36cc7d21469e8c5a66feac725e35",
        "IPY_MODEL_b59e07cc8431414e8ce51e3e4afd5e22",
        "IPY_MODEL_58194826f9274202ae14febea280bf7e"
       ],
       "layout": "IPY_MODEL_be1e3364bbf7445d9c6c74b44ea05d08"
      }
     },
     "c324dcca50e44c37af72b9fd944e74dc": {
      "model_module": "@jupyter-widgets/base",
      "model_module_version": "1.2.0",
      "model_name": "LayoutModel",
      "state": {
       "_model_module": "@jupyter-widgets/base",
       "_model_module_version": "1.2.0",
       "_model_name": "LayoutModel",
       "_view_count": null,
       "_view_module": "@jupyter-widgets/base",
       "_view_module_version": "1.2.0",
       "_view_name": "LayoutView",
       "align_content": null,
       "align_items": null,
       "align_self": null,
       "border": null,
       "bottom": null,
       "display": null,
       "flex": null,
       "flex_flow": null,
       "grid_area": null,
       "grid_auto_columns": null,
       "grid_auto_flow": null,
       "grid_auto_rows": null,
       "grid_column": null,
       "grid_gap": null,
       "grid_row": null,
       "grid_template_areas": null,
       "grid_template_columns": null,
       "grid_template_rows": null,
       "height": null,
       "justify_content": null,
       "justify_items": null,
       "left": null,
       "margin": null,
       "max_height": null,
       "max_width": null,
       "min_height": null,
       "min_width": null,
       "object_fit": null,
       "object_position": null,
       "order": null,
       "overflow": null,
       "overflow_x": null,
       "overflow_y": null,
       "padding": null,
       "right": null,
       "top": null,
       "visibility": null,
       "width": null
      }
     },
     "c6eda33b1c2d45e8af30a24c208838a5": {
      "model_module": "@jupyter-widgets/base",
      "model_module_version": "1.2.0",
      "model_name": "LayoutModel",
      "state": {
       "_model_module": "@jupyter-widgets/base",
       "_model_module_version": "1.2.0",
       "_model_name": "LayoutModel",
       "_view_count": null,
       "_view_module": "@jupyter-widgets/base",
       "_view_module_version": "1.2.0",
       "_view_name": "LayoutView",
       "align_content": null,
       "align_items": null,
       "align_self": null,
       "border": null,
       "bottom": null,
       "display": null,
       "flex": null,
       "flex_flow": null,
       "grid_area": null,
       "grid_auto_columns": null,
       "grid_auto_flow": null,
       "grid_auto_rows": null,
       "grid_column": null,
       "grid_gap": null,
       "grid_row": null,
       "grid_template_areas": null,
       "grid_template_columns": null,
       "grid_template_rows": null,
       "height": null,
       "justify_content": null,
       "justify_items": null,
       "left": null,
       "margin": null,
       "max_height": null,
       "max_width": null,
       "min_height": null,
       "min_width": null,
       "object_fit": null,
       "object_position": null,
       "order": null,
       "overflow": null,
       "overflow_x": null,
       "overflow_y": null,
       "padding": null,
       "right": null,
       "top": null,
       "visibility": null,
       "width": null
      }
     },
     "ca72cfa0834e4e31a76add6fede86d61": {
      "model_module": "@jupyter-widgets/base",
      "model_module_version": "1.2.0",
      "model_name": "LayoutModel",
      "state": {
       "_model_module": "@jupyter-widgets/base",
       "_model_module_version": "1.2.0",
       "_model_name": "LayoutModel",
       "_view_count": null,
       "_view_module": "@jupyter-widgets/base",
       "_view_module_version": "1.2.0",
       "_view_name": "LayoutView",
       "align_content": null,
       "align_items": null,
       "align_self": null,
       "border": null,
       "bottom": null,
       "display": null,
       "flex": null,
       "flex_flow": null,
       "grid_area": null,
       "grid_auto_columns": null,
       "grid_auto_flow": null,
       "grid_auto_rows": null,
       "grid_column": null,
       "grid_gap": null,
       "grid_row": null,
       "grid_template_areas": null,
       "grid_template_columns": null,
       "grid_template_rows": null,
       "height": null,
       "justify_content": null,
       "justify_items": null,
       "left": null,
       "margin": null,
       "max_height": null,
       "max_width": null,
       "min_height": null,
       "min_width": null,
       "object_fit": null,
       "object_position": null,
       "order": null,
       "overflow": null,
       "overflow_x": null,
       "overflow_y": null,
       "padding": null,
       "right": null,
       "top": null,
       "visibility": null,
       "width": null
      }
     },
     "cbdc8f0b82694fe6a2008d09eb20a9cc": {
      "model_module": "@jupyter-widgets/controls",
      "model_module_version": "1.5.0",
      "model_name": "FloatProgressModel",
      "state": {
       "_dom_classes": [],
       "_model_module": "@jupyter-widgets/controls",
       "_model_module_version": "1.5.0",
       "_model_name": "FloatProgressModel",
       "_view_count": null,
       "_view_module": "@jupyter-widgets/controls",
       "_view_module_version": "1.5.0",
       "_view_name": "ProgressView",
       "bar_style": "success",
       "description": "",
       "description_tooltip": null,
       "layout": "IPY_MODEL_82714d5419ed491ba5ebfc857e275cc0",
       "max": 625.0,
       "min": 0.0,
       "orientation": "horizontal",
       "style": "IPY_MODEL_54d09255bfad4e3b948f50710097f3fe",
       "value": 625.0
      }
     },
     "cf5ae450f76e409e895d2fb202a48cea": {
      "model_module": "@jupyter-widgets/base",
      "model_module_version": "1.2.0",
      "model_name": "LayoutModel",
      "state": {
       "_model_module": "@jupyter-widgets/base",
       "_model_module_version": "1.2.0",
       "_model_name": "LayoutModel",
       "_view_count": null,
       "_view_module": "@jupyter-widgets/base",
       "_view_module_version": "1.2.0",
       "_view_name": "LayoutView",
       "align_content": null,
       "align_items": null,
       "align_self": null,
       "border": null,
       "bottom": null,
       "display": null,
       "flex": null,
       "flex_flow": null,
       "grid_area": null,
       "grid_auto_columns": null,
       "grid_auto_flow": null,
       "grid_auto_rows": null,
       "grid_column": null,
       "grid_gap": null,
       "grid_row": null,
       "grid_template_areas": null,
       "grid_template_columns": null,
       "grid_template_rows": null,
       "height": null,
       "justify_content": null,
       "justify_items": null,
       "left": null,
       "margin": null,
       "max_height": null,
       "max_width": null,
       "min_height": null,
       "min_width": null,
       "object_fit": null,
       "object_position": null,
       "order": null,
       "overflow": null,
       "overflow_x": null,
       "overflow_y": null,
       "padding": null,
       "right": null,
       "top": null,
       "visibility": null,
       "width": null
      }
     },
     "d2958c4aeab4403b9936cbe0351c553e": {
      "model_module": "@jupyter-widgets/controls",
      "model_module_version": "1.5.0",
      "model_name": "DescriptionStyleModel",
      "state": {
       "_model_module": "@jupyter-widgets/controls",
       "_model_module_version": "1.5.0",
       "_model_name": "DescriptionStyleModel",
       "_view_count": null,
       "_view_module": "@jupyter-widgets/base",
       "_view_module_version": "1.2.0",
       "_view_name": "StyleView",
       "description_width": ""
      }
     },
     "d2f3c06d6f65483ea1e338a1f43508a6": {
      "model_module": "@jupyter-widgets/base",
      "model_module_version": "1.2.0",
      "model_name": "LayoutModel",
      "state": {
       "_model_module": "@jupyter-widgets/base",
       "_model_module_version": "1.2.0",
       "_model_name": "LayoutModel",
       "_view_count": null,
       "_view_module": "@jupyter-widgets/base",
       "_view_module_version": "1.2.0",
       "_view_name": "LayoutView",
       "align_content": null,
       "align_items": null,
       "align_self": null,
       "border": null,
       "bottom": null,
       "display": null,
       "flex": null,
       "flex_flow": null,
       "grid_area": null,
       "grid_auto_columns": null,
       "grid_auto_flow": null,
       "grid_auto_rows": null,
       "grid_column": null,
       "grid_gap": null,
       "grid_row": null,
       "grid_template_areas": null,
       "grid_template_columns": null,
       "grid_template_rows": null,
       "height": null,
       "justify_content": null,
       "justify_items": null,
       "left": null,
       "margin": null,
       "max_height": null,
       "max_width": null,
       "min_height": null,
       "min_width": null,
       "object_fit": null,
       "object_position": null,
       "order": null,
       "overflow": null,
       "overflow_x": null,
       "overflow_y": null,
       "padding": null,
       "right": null,
       "top": null,
       "visibility": null,
       "width": null
      }
     },
     "d3352190df5244a69734d81dc1e33326": {
      "model_module": "@jupyter-widgets/controls",
      "model_module_version": "1.5.0",
      "model_name": "HTMLModel",
      "state": {
       "_dom_classes": [],
       "_model_module": "@jupyter-widgets/controls",
       "_model_module_version": "1.5.0",
       "_model_name": "HTMLModel",
       "_view_count": null,
       "_view_module": "@jupyter-widgets/controls",
       "_view_module_version": "1.5.0",
       "_view_name": "HTMLView",
       "description": "",
       "description_tooltip": null,
       "layout": "IPY_MODEL_02a10c96631746b482715fd692dec3a9",
       "placeholder": "​",
       "style": "IPY_MODEL_150f160ef1184348a8148d9d02edec5c",
       "value": " 438M/438M [00:01&lt;00:00, 301MB/s]"
      }
     },
     "d3c73f429e9647d2b2ad42f0b69c09ae": {
      "model_module": "@jupyter-widgets/base",
      "model_module_version": "1.2.0",
      "model_name": "LayoutModel",
      "state": {
       "_model_module": "@jupyter-widgets/base",
       "_model_module_version": "1.2.0",
       "_model_name": "LayoutModel",
       "_view_count": null,
       "_view_module": "@jupyter-widgets/base",
       "_view_module_version": "1.2.0",
       "_view_name": "LayoutView",
       "align_content": null,
       "align_items": null,
       "align_self": null,
       "border": null,
       "bottom": null,
       "display": null,
       "flex": null,
       "flex_flow": null,
       "grid_area": null,
       "grid_auto_columns": null,
       "grid_auto_flow": null,
       "grid_auto_rows": null,
       "grid_column": null,
       "grid_gap": null,
       "grid_row": null,
       "grid_template_areas": null,
       "grid_template_columns": null,
       "grid_template_rows": null,
       "height": null,
       "justify_content": null,
       "justify_items": null,
       "left": null,
       "margin": null,
       "max_height": null,
       "max_width": null,
       "min_height": null,
       "min_width": null,
       "object_fit": null,
       "object_position": null,
       "order": null,
       "overflow": null,
       "overflow_x": null,
       "overflow_y": null,
       "padding": null,
       "right": null,
       "top": null,
       "visibility": null,
       "width": null
      }
     },
     "dcc3a1f1e62d440392d985b417fd4ed0": {
      "model_module": "@jupyter-widgets/controls",
      "model_module_version": "1.5.0",
      "model_name": "HTMLModel",
      "state": {
       "_dom_classes": [],
       "_model_module": "@jupyter-widgets/controls",
       "_model_module_version": "1.5.0",
       "_model_name": "HTMLModel",
       "_view_count": null,
       "_view_module": "@jupyter-widgets/controls",
       "_view_module_version": "1.5.0",
       "_view_name": "HTMLView",
       "description": "",
       "description_tooltip": null,
       "layout": "IPY_MODEL_36301483e99a4cee9017ec5511ae4452",
       "placeholder": "​",
       "style": "IPY_MODEL_3779fbbb7c404fe0bca42c8ec0231850",
       "value": "Downloading (…)in/added_tokens.json: 100%"
      }
     },
     "de7f7b329e21421aa06fb6bf7b147902": {
      "model_module": "@jupyter-widgets/controls",
      "model_module_version": "1.5.0",
      "model_name": "DescriptionStyleModel",
      "state": {
       "_model_module": "@jupyter-widgets/controls",
       "_model_module_version": "1.5.0",
       "_model_name": "DescriptionStyleModel",
       "_view_count": null,
       "_view_module": "@jupyter-widgets/base",
       "_view_module_version": "1.2.0",
       "_view_name": "StyleView",
       "description_width": ""
      }
     },
     "df38a8fde4734cbf92f03961bf66860e": {
      "model_module": "@jupyter-widgets/controls",
      "model_module_version": "1.5.0",
      "model_name": "HBoxModel",
      "state": {
       "_dom_classes": [],
       "_model_module": "@jupyter-widgets/controls",
       "_model_module_version": "1.5.0",
       "_model_name": "HBoxModel",
       "_view_count": null,
       "_view_module": "@jupyter-widgets/controls",
       "_view_module_version": "1.5.0",
       "_view_name": "HBoxView",
       "box_style": "",
       "children": [
        "IPY_MODEL_4293f150810240579befa86e712d6f0c",
        "IPY_MODEL_00c02bdb794646bea7e276b9d7f5799f",
        "IPY_MODEL_f836a91f154b4e4a92b5c16838fabb03"
       ],
       "layout": "IPY_MODEL_c324dcca50e44c37af72b9fd944e74dc"
      }
     },
     "e326d99dadda476fad6fe0f9e3fcacb4": {
      "model_module": "@jupyter-widgets/controls",
      "model_module_version": "1.5.0",
      "model_name": "DescriptionStyleModel",
      "state": {
       "_model_module": "@jupyter-widgets/controls",
       "_model_module_version": "1.5.0",
       "_model_name": "DescriptionStyleModel",
       "_view_count": null,
       "_view_module": "@jupyter-widgets/base",
       "_view_module_version": "1.2.0",
       "_view_name": "StyleView",
       "description_width": ""
      }
     },
     "e45278ee10724aae94cbfc961bf39ebe": {
      "model_module": "@jupyter-widgets/controls",
      "model_module_version": "1.5.0",
      "model_name": "ProgressStyleModel",
      "state": {
       "_model_module": "@jupyter-widgets/controls",
       "_model_module_version": "1.5.0",
       "_model_name": "ProgressStyleModel",
       "_view_count": null,
       "_view_module": "@jupyter-widgets/base",
       "_view_module_version": "1.2.0",
       "_view_name": "StyleView",
       "bar_color": null,
       "description_width": ""
      }
     },
     "e4ef9ca9b84848fa946332264b02a684": {
      "model_module": "@jupyter-widgets/controls",
      "model_module_version": "1.5.0",
      "model_name": "HTMLModel",
      "state": {
       "_dom_classes": [],
       "_model_module": "@jupyter-widgets/controls",
       "_model_module_version": "1.5.0",
       "_model_name": "HTMLModel",
       "_view_count": null,
       "_view_module": "@jupyter-widgets/controls",
       "_view_module_version": "1.5.0",
       "_view_name": "HTMLView",
       "description": "",
       "description_tooltip": null,
       "layout": "IPY_MODEL_36bbb414bec54bd9a94c4a15f26b2f55",
       "placeholder": "​",
       "style": "IPY_MODEL_9987796c4e0143f9881417584eb319e8",
       "value": " 26970/26970 [09:21&lt;00:00, 52.25it/s]"
      }
     },
     "f3788429a2b5434595f3658d7c90542e": {
      "model_module": "@jupyter-widgets/controls",
      "model_module_version": "1.5.0",
      "model_name": "FloatProgressModel",
      "state": {
       "_dom_classes": [],
       "_model_module": "@jupyter-widgets/controls",
       "_model_module_version": "1.5.0",
       "_model_name": "FloatProgressModel",
       "_view_count": null,
       "_view_module": "@jupyter-widgets/controls",
       "_view_module_version": "1.5.0",
       "_view_name": "ProgressView",
       "bar_style": "success",
       "description": "",
       "description_tooltip": null,
       "layout": "IPY_MODEL_c6eda33b1c2d45e8af30a24c208838a5",
       "max": 2.0,
       "min": 0.0,
       "orientation": "horizontal",
       "style": "IPY_MODEL_6b5c762b6ad941088e67bbac7b50dc5b",
       "value": 2.0
      }
     },
     "f69ca89730214a30844b50c84490c6ba": {
      "model_module": "@jupyter-widgets/base",
      "model_module_version": "1.2.0",
      "model_name": "LayoutModel",
      "state": {
       "_model_module": "@jupyter-widgets/base",
       "_model_module_version": "1.2.0",
       "_model_name": "LayoutModel",
       "_view_count": null,
       "_view_module": "@jupyter-widgets/base",
       "_view_module_version": "1.2.0",
       "_view_name": "LayoutView",
       "align_content": null,
       "align_items": null,
       "align_self": null,
       "border": null,
       "bottom": null,
       "display": null,
       "flex": null,
       "flex_flow": null,
       "grid_area": null,
       "grid_auto_columns": null,
       "grid_auto_flow": null,
       "grid_auto_rows": null,
       "grid_column": null,
       "grid_gap": null,
       "grid_row": null,
       "grid_template_areas": null,
       "grid_template_columns": null,
       "grid_template_rows": null,
       "height": null,
       "justify_content": null,
       "justify_items": null,
       "left": null,
       "margin": null,
       "max_height": null,
       "max_width": null,
       "min_height": null,
       "min_width": null,
       "object_fit": null,
       "object_position": null,
       "order": null,
       "overflow": null,
       "overflow_x": null,
       "overflow_y": null,
       "padding": null,
       "right": null,
       "top": null,
       "visibility": null,
       "width": null
      }
     },
     "f836a91f154b4e4a92b5c16838fabb03": {
      "model_module": "@jupyter-widgets/controls",
      "model_module_version": "1.5.0",
      "model_name": "HTMLModel",
      "state": {
       "_dom_classes": [],
       "_model_module": "@jupyter-widgets/controls",
       "_model_module_version": "1.5.0",
       "_model_name": "HTMLModel",
       "_view_count": null,
       "_view_module": "@jupyter-widgets/controls",
       "_view_module_version": "1.5.0",
       "_view_name": "HTMLView",
       "description": "",
       "description_tooltip": null,
       "layout": "IPY_MODEL_d3c73f429e9647d2b2ad42f0b69c09ae",
       "placeholder": "​",
       "style": "IPY_MODEL_de7f7b329e21421aa06fb6bf7b147902",
       "value": " 399/399 [00:00&lt;00:00, 16.7kB/s]"
      }
     },
     "f968859fd0fa41c981979a6251b53d8f": {
      "model_module": "@jupyter-widgets/base",
      "model_module_version": "1.2.0",
      "model_name": "LayoutModel",
      "state": {
       "_model_module": "@jupyter-widgets/base",
       "_model_module_version": "1.2.0",
       "_model_name": "LayoutModel",
       "_view_count": null,
       "_view_module": "@jupyter-widgets/base",
       "_view_module_version": "1.2.0",
       "_view_name": "LayoutView",
       "align_content": null,
       "align_items": null,
       "align_self": null,
       "border": null,
       "bottom": null,
       "display": null,
       "flex": null,
       "flex_flow": null,
       "grid_area": null,
       "grid_auto_columns": null,
       "grid_auto_flow": null,
       "grid_auto_rows": null,
       "grid_column": null,
       "grid_gap": null,
       "grid_row": null,
       "grid_template_areas": null,
       "grid_template_columns": null,
       "grid_template_rows": null,
       "height": null,
       "justify_content": null,
       "justify_items": null,
       "left": null,
       "margin": null,
       "max_height": null,
       "max_width": null,
       "min_height": null,
       "min_width": null,
       "object_fit": null,
       "object_position": null,
       "order": null,
       "overflow": null,
       "overflow_x": null,
       "overflow_y": null,
       "padding": null,
       "right": null,
       "top": null,
       "visibility": null,
       "width": null
      }
     }
    },
    "version_major": 2,
    "version_minor": 0
   }
  }
 },
 "nbformat": 4,
 "nbformat_minor": 5
}
